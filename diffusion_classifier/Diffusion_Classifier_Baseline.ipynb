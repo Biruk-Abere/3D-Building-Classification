{
  "cells": [
    {
      "cell_type": "code",
      "source": [
        "# import torchvision\n",
        "#import torch\n",
        "import pandas\n",
        "from torchvision.transforms import transforms\n",
        "import torchvision.transforms as torch_transforms\n",
        "from torchvision.transforms.functional import InterpolationMode"
      ],
      "metadata": {
        "id": "uKoNkPPT6C9q"
      },
      "execution_count": null,
      "outputs": []
    },
    {
      "cell_type": "code",
      "source": [
        "from google.colab import drive\n",
        "drive.mount(\"/content/drive\")"
      ],
      "metadata": {
        "colab": {
          "base_uri": "https://localhost:8080/"
        },
        "id": "677iBbYjTK50",
        "outputId": "2627098e-b796-4789-dfe0-c186632fbfe7"
      },
      "execution_count": 1,
      "outputs": [
        {
          "output_type": "stream",
          "name": "stdout",
          "text": [
            "Mounted at /content/drive\n"
          ]
        }
      ]
    },
    {
      "cell_type": "code",
      "execution_count": null,
      "metadata": {
        "colab": {
          "base_uri": "https://localhost:8080/"
        },
        "id": "LhxvpgqS9u3H",
        "outputId": "5e92312d-95a5-4956-8dec-01cec348b1d9"
      },
      "outputs": [
        {
          "output_type": "stream",
          "name": "stdout",
          "text": [
            "Python 3.10.12\n"
          ]
        }
      ],
      "source": [
        "!python --version"
      ]
    },
    {
      "cell_type": "code",
      "execution_count": null,
      "metadata": {
        "colab": {
          "base_uri": "https://localhost:8080/"
        },
        "id": "-22dldTq_dV3",
        "outputId": "5c7f5f48-b7b8-4916-d231-34ce3bbd8e5a"
      },
      "outputs": [
        {
          "output_type": "stream",
          "name": "stdout",
          "text": [
            "Collecting torch==1.13.1\n",
            "  Downloading torch-1.13.1-cp310-cp310-manylinux1_x86_64.whl.metadata (24 kB)\n",
            "Requirement already satisfied: typing-extensions in /usr/local/lib/python3.10/dist-packages (from torch==1.13.1) (4.12.2)\n",
            "Collecting nvidia-cuda-runtime-cu11==11.7.99 (from torch==1.13.1)\n",
            "  Downloading nvidia_cuda_runtime_cu11-11.7.99-py3-none-manylinux1_x86_64.whl.metadata (1.6 kB)\n",
            "Collecting nvidia-cudnn-cu11==8.5.0.96 (from torch==1.13.1)\n",
            "  Downloading nvidia_cudnn_cu11-8.5.0.96-2-py3-none-manylinux1_x86_64.whl.metadata (1.6 kB)\n",
            "Collecting nvidia-cublas-cu11==11.10.3.66 (from torch==1.13.1)\n",
            "  Downloading nvidia_cublas_cu11-11.10.3.66-py3-none-manylinux1_x86_64.whl.metadata (1.6 kB)\n",
            "Collecting nvidia-cuda-nvrtc-cu11==11.7.99 (from torch==1.13.1)\n",
            "  Downloading nvidia_cuda_nvrtc_cu11-11.7.99-2-py3-none-manylinux1_x86_64.whl.metadata (1.5 kB)\n",
            "Requirement already satisfied: setuptools in /usr/local/lib/python3.10/dist-packages (from nvidia-cublas-cu11==11.10.3.66->torch==1.13.1) (71.0.4)\n",
            "Requirement already satisfied: wheel in /usr/local/lib/python3.10/dist-packages (from nvidia-cublas-cu11==11.10.3.66->torch==1.13.1) (0.43.0)\n",
            "Downloading torch-1.13.1-cp310-cp310-manylinux1_x86_64.whl (887.5 MB)\n",
            "\u001b[2K   \u001b[90m━━━━━━━━━━━━━━━━━━━━━━━━━━━━━━━━━━━━━━━━\u001b[0m \u001b[32m887.5/887.5 MB\u001b[0m \u001b[31m1.7 MB/s\u001b[0m eta \u001b[36m0:00:00\u001b[0m\n",
            "\u001b[?25hDownloading nvidia_cublas_cu11-11.10.3.66-py3-none-manylinux1_x86_64.whl (317.1 MB)\n",
            "\u001b[2K   \u001b[90m━━━━━━━━━━━━━━━━━━━━━━━━━━━━━━━━━━━━━━━━\u001b[0m \u001b[32m317.1/317.1 MB\u001b[0m \u001b[31m4.0 MB/s\u001b[0m eta \u001b[36m0:00:00\u001b[0m\n",
            "\u001b[?25hDownloading nvidia_cuda_nvrtc_cu11-11.7.99-2-py3-none-manylinux1_x86_64.whl (21.0 MB)\n",
            "\u001b[2K   \u001b[90m━━━━━━━━━━━━━━━━━━━━━━━━━━━━━━━━━━━━━━━━\u001b[0m \u001b[32m21.0/21.0 MB\u001b[0m \u001b[31m36.9 MB/s\u001b[0m eta \u001b[36m0:00:00\u001b[0m\n",
            "\u001b[?25hDownloading nvidia_cuda_runtime_cu11-11.7.99-py3-none-manylinux1_x86_64.whl (849 kB)\n",
            "\u001b[2K   \u001b[90m━━━━━━━━━━━━━━━━━━━━━━━━━━━━━━━━━━━━━━━━\u001b[0m \u001b[32m849.3/849.3 kB\u001b[0m \u001b[31m39.2 MB/s\u001b[0m eta \u001b[36m0:00:00\u001b[0m\n",
            "\u001b[?25hDownloading nvidia_cudnn_cu11-8.5.0.96-2-py3-none-manylinux1_x86_64.whl (557.1 MB)\n",
            "\u001b[2K   \u001b[90m━━━━━━━━━━━━━━━━━━━━━━━━━━━━━━━━━━━━━━━━\u001b[0m \u001b[32m557.1/557.1 MB\u001b[0m \u001b[31m1.6 MB/s\u001b[0m eta \u001b[36m0:00:00\u001b[0m\n",
            "\u001b[?25hInstalling collected packages: nvidia-cuda-runtime-cu11, nvidia-cuda-nvrtc-cu11, nvidia-cublas-cu11, nvidia-cudnn-cu11, torch\n",
            "  Attempting uninstall: torch\n",
            "    Found existing installation: torch 2.3.1+cu121\n",
            "    Uninstalling torch-2.3.1+cu121:\n",
            "      Successfully uninstalled torch-2.3.1+cu121\n",
            "\u001b[31mERROR: pip's dependency resolver does not currently take into account all the packages that are installed. This behaviour is the source of the following dependency conflicts.\n",
            "torchaudio 2.3.1+cu121 requires torch==2.3.1, but you have torch 1.13.1 which is incompatible.\n",
            "torchtext 0.18.0 requires torch>=2.3.0, but you have torch 1.13.1 which is incompatible.\n",
            "torchvision 0.18.1+cu121 requires torch==2.3.1, but you have torch 1.13.1 which is incompatible.\u001b[0m\u001b[31m\n",
            "\u001b[0mSuccessfully installed nvidia-cublas-cu11-11.10.3.66 nvidia-cuda-nvrtc-cu11-11.7.99 nvidia-cuda-runtime-cu11-11.7.99 nvidia-cudnn-cu11-8.5.0.96 torch-1.13.1\n"
          ]
        }
      ],
      "source": [
        "pip install torch==1.13.1"
      ]
    },
    {
      "cell_type": "code",
      "execution_count": null,
      "metadata": {
        "colab": {
          "base_uri": "https://localhost:8080/"
        },
        "id": "-PR1LB163QAe",
        "outputId": "45c13ef1-357b-491e-aaa4-cf6e4103c935"
      },
      "outputs": [
        {
          "output_type": "stream",
          "name": "stdout",
          "text": [
            "Collecting torchvision==0.13.0\n",
            "  Downloading torchvision-0.13.0-cp310-cp310-manylinux1_x86_64.whl.metadata (10 kB)\n",
            "Requirement already satisfied: typing-extensions in /usr/local/lib/python3.10/dist-packages (from torchvision==0.13.0) (4.12.2)\n",
            "Requirement already satisfied: numpy in /usr/local/lib/python3.10/dist-packages (from torchvision==0.13.0) (1.26.4)\n",
            "Requirement already satisfied: requests in /usr/local/lib/python3.10/dist-packages (from torchvision==0.13.0) (2.31.0)\n",
            "Collecting torch==1.12.0 (from torchvision==0.13.0)\n",
            "  Downloading torch-1.12.0-cp310-cp310-manylinux1_x86_64.whl.metadata (22 kB)\n",
            "Requirement already satisfied: pillow!=8.3.*,>=5.3.0 in /usr/local/lib/python3.10/dist-packages (from torchvision==0.13.0) (9.4.0)\n",
            "Requirement already satisfied: charset-normalizer<4,>=2 in /usr/local/lib/python3.10/dist-packages (from requests->torchvision==0.13.0) (3.3.2)\n",
            "Requirement already satisfied: idna<4,>=2.5 in /usr/local/lib/python3.10/dist-packages (from requests->torchvision==0.13.0) (3.7)\n",
            "Requirement already satisfied: urllib3<3,>=1.21.1 in /usr/local/lib/python3.10/dist-packages (from requests->torchvision==0.13.0) (2.0.7)\n",
            "Requirement already satisfied: certifi>=2017.4.17 in /usr/local/lib/python3.10/dist-packages (from requests->torchvision==0.13.0) (2024.7.4)\n",
            "Downloading torchvision-0.13.0-cp310-cp310-manylinux1_x86_64.whl (19.1 MB)\n",
            "\u001b[2K   \u001b[90m━━━━━━━━━━━━━━━━━━━━━━━━━━━━━━━━━━━━━━━━\u001b[0m \u001b[32m19.1/19.1 MB\u001b[0m \u001b[31m58.6 MB/s\u001b[0m eta \u001b[36m0:00:00\u001b[0m\n",
            "\u001b[?25hDownloading torch-1.12.0-cp310-cp310-manylinux1_x86_64.whl (776.3 MB)\n",
            "\u001b[2K   \u001b[90m━━━━━━━━━━━━━━━━━━━━━━━━━━━━━━━━━━━━━━━━\u001b[0m \u001b[32m776.3/776.3 MB\u001b[0m \u001b[31m2.3 MB/s\u001b[0m eta \u001b[36m0:00:00\u001b[0m\n",
            "\u001b[?25hInstalling collected packages: torch, torchvision\n",
            "  Attempting uninstall: torch\n",
            "    Found existing installation: torch 1.13.1\n",
            "    Uninstalling torch-1.13.1:\n",
            "      Successfully uninstalled torch-1.13.1\n",
            "  Attempting uninstall: torchvision\n",
            "    Found existing installation: torchvision 0.18.1+cu121\n",
            "    Uninstalling torchvision-0.18.1+cu121:\n",
            "      Successfully uninstalled torchvision-0.18.1+cu121\n",
            "\u001b[31mERROR: pip's dependency resolver does not currently take into account all the packages that are installed. This behaviour is the source of the following dependency conflicts.\n",
            "torchaudio 2.3.1+cu121 requires torch==2.3.1, but you have torch 1.12.0 which is incompatible.\n",
            "torchtext 0.18.0 requires torch>=2.3.0, but you have torch 1.12.0 which is incompatible.\u001b[0m\u001b[31m\n",
            "\u001b[0mSuccessfully installed torch-1.12.0 torchvision-0.13.0\n"
          ]
        }
      ],
      "source": [
        "pip install torchvision==0.13.0"
      ]
    },
    {
      "cell_type": "code",
      "execution_count": null,
      "metadata": {
        "id": "n5DK4nmR8Myr",
        "colab": {
          "base_uri": "https://localhost:8080/"
        },
        "outputId": "d3dbe01a-7235-488e-83d8-0bfb07d60ffc"
      },
      "outputs": [
        {
          "output_type": "stream",
          "name": "stdout",
          "text": [
            "/content/drive/.shortcut-targets-by-id/1iKYwig0Wy6ShYPYN1JdvZhphpFEtCGum/diffusion-classifier-master\n"
          ]
        }
      ],
      "source": [
        "%cd /content/drive/MyDrive/diffusion-classifier-master"
      ]
    },
    {
      "cell_type": "code",
      "execution_count": null,
      "metadata": {
        "id": "1dP8yB2dqHUe",
        "colab": {
          "base_uri": "https://localhost:8080/"
        },
        "outputId": "3e5e9c1b-5e74-45a4-ebe3-c787e06e28fa"
      },
      "outputs": [
        {
          "output_type": "stream",
          "name": "stdout",
          "text": [
            "Collecting diffusers\n",
            "  Downloading diffusers-0.30.0-py3-none-any.whl.metadata (18 kB)\n",
            "Requirement already satisfied: importlib-metadata in /usr/local/lib/python3.10/dist-packages (from diffusers) (8.2.0)\n",
            "Requirement already satisfied: filelock in /usr/local/lib/python3.10/dist-packages (from diffusers) (3.15.4)\n",
            "Requirement already satisfied: huggingface-hub>=0.23.2 in /usr/local/lib/python3.10/dist-packages (from diffusers) (0.23.5)\n",
            "Requirement already satisfied: numpy in /usr/local/lib/python3.10/dist-packages (from diffusers) (1.26.4)\n",
            "Requirement already satisfied: regex!=2019.12.17 in /usr/local/lib/python3.10/dist-packages (from diffusers) (2024.5.15)\n",
            "Requirement already satisfied: requests in /usr/local/lib/python3.10/dist-packages (from diffusers) (2.31.0)\n",
            "Requirement already satisfied: safetensors>=0.3.1 in /usr/local/lib/python3.10/dist-packages (from diffusers) (0.4.3)\n",
            "Requirement already satisfied: Pillow in /usr/local/lib/python3.10/dist-packages (from diffusers) (9.4.0)\n",
            "Requirement already satisfied: fsspec>=2023.5.0 in /usr/local/lib/python3.10/dist-packages (from huggingface-hub>=0.23.2->diffusers) (2024.6.1)\n",
            "Requirement already satisfied: packaging>=20.9 in /usr/local/lib/python3.10/dist-packages (from huggingface-hub>=0.23.2->diffusers) (24.1)\n",
            "Requirement already satisfied: pyyaml>=5.1 in /usr/local/lib/python3.10/dist-packages (from huggingface-hub>=0.23.2->diffusers) (6.0.1)\n",
            "Requirement already satisfied: tqdm>=4.42.1 in /usr/local/lib/python3.10/dist-packages (from huggingface-hub>=0.23.2->diffusers) (4.66.4)\n",
            "Requirement already satisfied: typing-extensions>=3.7.4.3 in /usr/local/lib/python3.10/dist-packages (from huggingface-hub>=0.23.2->diffusers) (4.12.2)\n",
            "Requirement already satisfied: zipp>=0.5 in /usr/local/lib/python3.10/dist-packages (from importlib-metadata->diffusers) (3.19.2)\n",
            "Requirement already satisfied: charset-normalizer<4,>=2 in /usr/local/lib/python3.10/dist-packages (from requests->diffusers) (3.3.2)\n",
            "Requirement already satisfied: idna<4,>=2.5 in /usr/local/lib/python3.10/dist-packages (from requests->diffusers) (3.7)\n",
            "Requirement already satisfied: urllib3<3,>=1.21.1 in /usr/local/lib/python3.10/dist-packages (from requests->diffusers) (2.0.7)\n",
            "Requirement already satisfied: certifi>=2017.4.17 in /usr/local/lib/python3.10/dist-packages (from requests->diffusers) (2024.7.4)\n",
            "Downloading diffusers-0.30.0-py3-none-any.whl (2.6 MB)\n",
            "\u001b[2K   \u001b[90m━━━━━━━━━━━━━━━━━━━━━━━━━━━━━━━━━━━━━━━━\u001b[0m \u001b[32m2.6/2.6 MB\u001b[0m \u001b[31m9.0 MB/s\u001b[0m eta \u001b[36m0:00:00\u001b[0m\n",
            "\u001b[?25hInstalling collected packages: diffusers\n",
            "Successfully installed diffusers-0.30.0\n",
            "Requirement already satisfied: transformers in /usr/local/lib/python3.10/dist-packages (4.42.4)\n",
            "Requirement already satisfied: filelock in /usr/local/lib/python3.10/dist-packages (from transformers) (3.15.4)\n",
            "Requirement already satisfied: huggingface-hub<1.0,>=0.23.2 in /usr/local/lib/python3.10/dist-packages (from transformers) (0.23.5)\n",
            "Requirement already satisfied: numpy<2.0,>=1.17 in /usr/local/lib/python3.10/dist-packages (from transformers) (1.26.4)\n",
            "Requirement already satisfied: packaging>=20.0 in /usr/local/lib/python3.10/dist-packages (from transformers) (24.1)\n",
            "Requirement already satisfied: pyyaml>=5.1 in /usr/local/lib/python3.10/dist-packages (from transformers) (6.0.1)\n",
            "Requirement already satisfied: regex!=2019.12.17 in /usr/local/lib/python3.10/dist-packages (from transformers) (2024.5.15)\n",
            "Requirement already satisfied: requests in /usr/local/lib/python3.10/dist-packages (from transformers) (2.31.0)\n",
            "Requirement already satisfied: safetensors>=0.4.1 in /usr/local/lib/python3.10/dist-packages (from transformers) (0.4.3)\n",
            "Requirement already satisfied: tokenizers<0.20,>=0.19 in /usr/local/lib/python3.10/dist-packages (from transformers) (0.19.1)\n",
            "Requirement already satisfied: tqdm>=4.27 in /usr/local/lib/python3.10/dist-packages (from transformers) (4.66.4)\n",
            "Requirement already satisfied: fsspec>=2023.5.0 in /usr/local/lib/python3.10/dist-packages (from huggingface-hub<1.0,>=0.23.2->transformers) (2024.6.1)\n",
            "Requirement already satisfied: typing-extensions>=3.7.4.3 in /usr/local/lib/python3.10/dist-packages (from huggingface-hub<1.0,>=0.23.2->transformers) (4.12.2)\n",
            "Requirement already satisfied: charset-normalizer<4,>=2 in /usr/local/lib/python3.10/dist-packages (from requests->transformers) (3.3.2)\n",
            "Requirement already satisfied: idna<4,>=2.5 in /usr/local/lib/python3.10/dist-packages (from requests->transformers) (3.7)\n",
            "Requirement already satisfied: urllib3<3,>=1.21.1 in /usr/local/lib/python3.10/dist-packages (from requests->transformers) (2.0.7)\n",
            "Requirement already satisfied: certifi>=2017.4.17 in /usr/local/lib/python3.10/dist-packages (from requests->transformers) (2024.7.4)\n",
            "Requirement already satisfied: accelerate in /usr/local/lib/python3.10/dist-packages (0.32.1)\n",
            "Requirement already satisfied: numpy<2.0.0,>=1.17 in /usr/local/lib/python3.10/dist-packages (from accelerate) (1.26.4)\n",
            "Requirement already satisfied: packaging>=20.0 in /usr/local/lib/python3.10/dist-packages (from accelerate) (24.1)\n",
            "Requirement already satisfied: psutil in /usr/local/lib/python3.10/dist-packages (from accelerate) (5.9.5)\n",
            "Requirement already satisfied: pyyaml in /usr/local/lib/python3.10/dist-packages (from accelerate) (6.0.1)\n",
            "Requirement already satisfied: torch>=1.10.0 in /usr/local/lib/python3.10/dist-packages (from accelerate) (1.12.0)\n",
            "Requirement already satisfied: huggingface-hub in /usr/local/lib/python3.10/dist-packages (from accelerate) (0.23.5)\n",
            "Requirement already satisfied: safetensors>=0.3.1 in /usr/local/lib/python3.10/dist-packages (from accelerate) (0.4.3)\n",
            "Requirement already satisfied: typing-extensions in /usr/local/lib/python3.10/dist-packages (from torch>=1.10.0->accelerate) (4.12.2)\n",
            "Requirement already satisfied: filelock in /usr/local/lib/python3.10/dist-packages (from huggingface-hub->accelerate) (3.15.4)\n",
            "Requirement already satisfied: fsspec>=2023.5.0 in /usr/local/lib/python3.10/dist-packages (from huggingface-hub->accelerate) (2024.6.1)\n",
            "Requirement already satisfied: requests in /usr/local/lib/python3.10/dist-packages (from huggingface-hub->accelerate) (2.31.0)\n",
            "Requirement already satisfied: tqdm>=4.42.1 in /usr/local/lib/python3.10/dist-packages (from huggingface-hub->accelerate) (4.66.4)\n",
            "Requirement already satisfied: charset-normalizer<4,>=2 in /usr/local/lib/python3.10/dist-packages (from requests->huggingface-hub->accelerate) (3.3.2)\n",
            "Requirement already satisfied: idna<4,>=2.5 in /usr/local/lib/python3.10/dist-packages (from requests->huggingface-hub->accelerate) (3.7)\n",
            "Requirement already satisfied: urllib3<3,>=1.21.1 in /usr/local/lib/python3.10/dist-packages (from requests->huggingface-hub->accelerate) (2.0.7)\n",
            "Requirement already satisfied: certifi>=2017.4.17 in /usr/local/lib/python3.10/dist-packages (from requests->huggingface-hub->accelerate) (2024.7.4)\n"
          ]
        }
      ],
      "source": [
        "!pip install diffusers\n",
        "!pip install transformers\n",
        "!pip install accelerate\n",
        "#!pip install xformers"
      ]
    },
    {
      "cell_type": "code",
      "execution_count": null,
      "metadata": {
        "id": "oQ2UCb5Hl-Ws",
        "colab": {
          "base_uri": "https://localhost:8080/",
          "height": 204
        },
        "outputId": "0a486459-eeeb-4f05-f503-169000186e89"
      },
      "outputs": [
        {
          "output_type": "execute_result",
          "data": {
            "text/plain": [
              "<function condacolab.install_mambaforge(prefix: os.PathLike = '/usr/local', env: Dict[~AnyStr, ~AnyStr] = None, run_checks: bool = True)>"
            ],
            "text/html": [
              "<div style=\"max-width:800px; border: 1px solid var(--colab-border-color);\"><style>\n",
              "      pre.function-repr-contents {\n",
              "        overflow-x: auto;\n",
              "        padding: 8px 12px;\n",
              "        max-height: 500px;\n",
              "      }\n",
              "\n",
              "      pre.function-repr-contents.function-repr-contents-collapsed {\n",
              "        cursor: pointer;\n",
              "        max-height: 100px;\n",
              "      }\n",
              "    </style>\n",
              "    <pre style=\"white-space: initial; background:\n",
              "         var(--colab-secondary-surface-color); padding: 8px 12px;\n",
              "         border-bottom: 1px solid var(--colab-border-color);\"><b>condacolab.install_mambaforge</b><br/>def install_mambaforge(prefix: os.PathLike=PREFIX, env: Dict[AnyStr, AnyStr]=None, run_checks: bool=True)</pre><pre class=\"function-repr-contents function-repr-contents-collapsed\" style=\"\"><a class=\"filepath\" style=\"display:none\" href=\"#\">/usr/local/lib/python3.10/dist-packages/condacolab.py</a>Install Mambaforge 23.11.0, built for Python 3.10.\n",
              "\n",
              "Mambaforge consists of a Miniconda-like distribution optimized\n",
              "and preconfigured for conda-forge packages, and includes ``mamba``,\n",
              "a faster ``conda`` implementation.\n",
              "\n",
              "Parameters\n",
              "----------\n",
              "prefix\n",
              "    Target location for the installation\n",
              "env\n",
              "    Environment variables to inject in the kernel restart.\n",
              "    We *need* to inject ``LD_LIBRARY_PATH`` so ``{PREFIX}/lib``\n",
              "    is first, but you can also add more if you need it. Take\n",
              "    into account that no quote handling is done, so you need\n",
              "    to add those yourself in the raw string. They will\n",
              "    end up added to a line like ``exec env VAR=VALUE python3...``.\n",
              "    For example, a value with spaces should be passed as::\n",
              "\n",
              "        env={&quot;VAR&quot;: &#x27;&quot;a value with spaces&quot;&#x27;}\n",
              "run_checks\n",
              "    Run checks to see if installation was run previously.\n",
              "    Change to False to ignore checks and always attempt\n",
              "    to run the installation.</pre>\n",
              "      <script>\n",
              "      if (google.colab.kernel.accessAllowed && google.colab.files && google.colab.files.view) {\n",
              "        for (const element of document.querySelectorAll('.filepath')) {\n",
              "          element.style.display = 'block'\n",
              "          element.onclick = (event) => {\n",
              "            event.preventDefault();\n",
              "            event.stopPropagation();\n",
              "            google.colab.files.view(element.textContent, 170);\n",
              "          };\n",
              "        }\n",
              "      }\n",
              "      for (const element of document.querySelectorAll('.function-repr-contents')) {\n",
              "        element.onclick = (event) => {\n",
              "          event.preventDefault();\n",
              "          event.stopPropagation();\n",
              "          element.classList.toggle('function-repr-contents-collapsed');\n",
              "        };\n",
              "      }\n",
              "      </script>\n",
              "      </div>"
            ]
          },
          "metadata": {},
          "execution_count": 10
        }
      ],
      "source": [
        "!pip install -q condacolab\n",
        "import condacolab\n",
        "condacolab.install"
      ]
    },
    {
      "cell_type": "code",
      "execution_count": null,
      "metadata": {
        "id": "jBVO4mkz5lOi",
        "colab": {
          "base_uri": "https://localhost:8080/"
        },
        "outputId": "e2e81a27-2d55-49f0-97a9-c69dbbbc75b7"
      },
      "outputs": [
        {
          "output_type": "stream",
          "name": "stdout",
          "text": [
            "fatal: destination path 'xformers' already exists and is not an empty directory.\n"
          ]
        }
      ],
      "source": [
        "!git clone https://github.com/facebookresearch/xformers.git"
      ]
    },
    {
      "cell_type": "code",
      "execution_count": null,
      "metadata": {
        "id": "INK0GkaE5pvn",
        "colab": {
          "base_uri": "https://localhost:8080/"
        },
        "outputId": "72e1e92e-be7d-41fc-d151-f91b4616d46d"
      },
      "outputs": [
        {
          "output_type": "stream",
          "name": "stdout",
          "text": [
            "/content/drive/.shortcut-targets-by-id/1iKYwig0Wy6ShYPYN1JdvZhphpFEtCGum/diffusion-classifier-master/xformers\n"
          ]
        }
      ],
      "source": [
        "%cd xformers"
      ]
    },
    {
      "cell_type": "code",
      "execution_count": null,
      "metadata": {
        "id": "vD6TLnes5v2V",
        "colab": {
          "base_uri": "https://localhost:8080/"
        },
        "outputId": "3e92a65d-51cf-440d-d0e5-cf9d1b860021"
      },
      "outputs": [
        {
          "output_type": "stream",
          "name": "stdout",
          "text": [
            "Requirement already satisfied: cmake in /usr/local/lib/python3.10/dist-packages (3.30.1)\n",
            "Requirement already satisfied: torch>=2.2 in /usr/local/lib/python3.10/dist-packages (from -r requirements.txt (line 3)) (2.4.0)\n",
            "Requirement already satisfied: numpy in /usr/local/lib/python3.10/dist-packages (from -r requirements.txt (line 4)) (1.26.4)\n",
            "Requirement already satisfied: filelock in /usr/local/lib/python3.10/dist-packages (from torch>=2.2->-r requirements.txt (line 3)) (3.15.4)\n",
            "Requirement already satisfied: typing-extensions>=4.8.0 in /usr/local/lib/python3.10/dist-packages (from torch>=2.2->-r requirements.txt (line 3)) (4.12.2)\n",
            "Requirement already satisfied: sympy in /usr/local/lib/python3.10/dist-packages (from torch>=2.2->-r requirements.txt (line 3)) (1.13.1)\n",
            "Requirement already satisfied: networkx in /usr/local/lib/python3.10/dist-packages (from torch>=2.2->-r requirements.txt (line 3)) (3.3)\n",
            "Requirement already satisfied: jinja2 in /usr/local/lib/python3.10/dist-packages (from torch>=2.2->-r requirements.txt (line 3)) (3.1.4)\n",
            "Requirement already satisfied: fsspec in /usr/local/lib/python3.10/dist-packages (from torch>=2.2->-r requirements.txt (line 3)) (2024.6.1)\n",
            "Requirement already satisfied: nvidia-cuda-nvrtc-cu12==12.1.105 in /usr/local/lib/python3.10/dist-packages (from torch>=2.2->-r requirements.txt (line 3)) (12.1.105)\n",
            "Requirement already satisfied: nvidia-cuda-runtime-cu12==12.1.105 in /usr/local/lib/python3.10/dist-packages (from torch>=2.2->-r requirements.txt (line 3)) (12.1.105)\n",
            "Requirement already satisfied: nvidia-cuda-cupti-cu12==12.1.105 in /usr/local/lib/python3.10/dist-packages (from torch>=2.2->-r requirements.txt (line 3)) (12.1.105)\n",
            "Requirement already satisfied: nvidia-cudnn-cu12==9.1.0.70 in /usr/local/lib/python3.10/dist-packages (from torch>=2.2->-r requirements.txt (line 3)) (9.1.0.70)\n",
            "Requirement already satisfied: nvidia-cublas-cu12==12.1.3.1 in /usr/local/lib/python3.10/dist-packages (from torch>=2.2->-r requirements.txt (line 3)) (12.1.3.1)\n",
            "Requirement already satisfied: nvidia-cufft-cu12==11.0.2.54 in /usr/local/lib/python3.10/dist-packages (from torch>=2.2->-r requirements.txt (line 3)) (11.0.2.54)\n",
            "Requirement already satisfied: nvidia-curand-cu12==10.3.2.106 in /usr/local/lib/python3.10/dist-packages (from torch>=2.2->-r requirements.txt (line 3)) (10.3.2.106)\n",
            "Requirement already satisfied: nvidia-cusolver-cu12==11.4.5.107 in /usr/local/lib/python3.10/dist-packages (from torch>=2.2->-r requirements.txt (line 3)) (11.4.5.107)\n",
            "Requirement already satisfied: nvidia-cusparse-cu12==12.1.0.106 in /usr/local/lib/python3.10/dist-packages (from torch>=2.2->-r requirements.txt (line 3)) (12.1.0.106)\n",
            "Requirement already satisfied: nvidia-nccl-cu12==2.20.5 in /usr/local/lib/python3.10/dist-packages (from torch>=2.2->-r requirements.txt (line 3)) (2.20.5)\n",
            "Requirement already satisfied: nvidia-nvtx-cu12==12.1.105 in /usr/local/lib/python3.10/dist-packages (from torch>=2.2->-r requirements.txt (line 3)) (12.1.105)\n",
            "Requirement already satisfied: triton==3.0.0 in /usr/local/lib/python3.10/dist-packages (from torch>=2.2->-r requirements.txt (line 3)) (3.0.0)\n",
            "Requirement already satisfied: nvidia-nvjitlink-cu12 in /usr/local/lib/python3.10/dist-packages (from nvidia-cusolver-cu12==11.4.5.107->torch>=2.2->-r requirements.txt (line 3)) (12.6.20)\n",
            "Requirement already satisfied: MarkupSafe>=2.0 in /usr/local/lib/python3.10/dist-packages (from jinja2->torch>=2.2->-r requirements.txt (line 3)) (2.1.5)\n",
            "Requirement already satisfied: mpmath<1.4,>=1.1.0 in /usr/local/lib/python3.10/dist-packages (from sympy->torch>=2.2->-r requirements.txt (line 3)) (1.3.0)\n"
          ]
        }
      ],
      "source": [
        "!pip install cmake  # Required for building from source\n",
        "!pip install -r requirements.txt  # Install other Python dependencies"
      ]
    },
    {
      "cell_type": "code",
      "execution_count": null,
      "metadata": {
        "id": "2_prMKqQ6Olc",
        "colab": {
          "base_uri": "https://localhost:8080/"
        },
        "outputId": "432da29c-a62c-4f28-9303-690e6dc72ca9"
      },
      "outputs": [
        {
          "output_type": "stream",
          "name": "stdout",
          "text": [
            "/content/drive/.shortcut-targets-by-id/1iKYwig0Wy6ShYPYN1JdvZhphpFEtCGum/diffusion-classifier-master/xformers\n"
          ]
        }
      ],
      "source": [
        "cd /content/drive/.shortcut-targets-by-id/1iKYwig0Wy6ShYPYN1JdvZhphpFEtCGum/diffusion-classifier-master/xformers"
      ]
    },
    {
      "cell_type": "code",
      "execution_count": null,
      "metadata": {
        "id": "TRDrXi4Q6So-"
      },
      "outputs": [],
      "source": [
        "!git submodule update --init --recursive"
      ]
    },
    {
      "cell_type": "code",
      "execution_count": null,
      "metadata": {
        "id": "ISWiNOL750tV",
        "colab": {
          "base_uri": "https://localhost:8080/"
        },
        "outputId": "0e707153-664d-48be-a198-a9545036b778"
      },
      "outputs": [
        {
          "output_type": "stream",
          "name": "stdout",
          "text": [
            "running install\n",
            "/usr/local/lib/python3.10/dist-packages/setuptools/_distutils/cmd.py:66: SetuptoolsDeprecationWarning: setup.py install is deprecated.\n",
            "!!\n",
            "\n",
            "        ********************************************************************************\n",
            "        Please avoid running ``setup.py`` directly.\n",
            "        Instead, use pypa/build, pypa/installer or other\n",
            "        standards-based tools.\n",
            "\n",
            "        See https://blog.ganssle.io/articles/2021/10/setup-py-deprecated.html for details.\n",
            "        ********************************************************************************\n",
            "\n",
            "!!\n",
            "  self.initialize_options()\n",
            "/usr/local/lib/python3.10/dist-packages/setuptools/_distutils/cmd.py:66: EasyInstallDeprecationWarning: easy_install command is deprecated.\n",
            "!!\n",
            "\n",
            "        ********************************************************************************\n",
            "        Please avoid running ``setup.py`` and ``easy_install``.\n",
            "        Instead, use pypa/build, pypa/installer or other\n",
            "        standards-based tools.\n",
            "\n",
            "        See https://github.com/pypa/setuptools/issues/917 for details.\n",
            "        ********************************************************************************\n",
            "\n",
            "!!\n",
            "  self.initialize_options()\n",
            "running bdist_egg\n",
            "running egg_info\n",
            "writing xformers.egg-info/PKG-INFO\n",
            "writing dependency_links to xformers.egg-info/dependency_links.txt\n",
            "writing requirements to xformers.egg-info/requires.txt\n",
            "writing top-level names to xformers.egg-info/top_level.txt\n",
            "/usr/local/lib/python3.10/dist-packages/torch/utils/cpp_extension.py:495: UserWarning: Attempted to use ninja as the BuildExtension backend but we could not find ninja.. Falling back to using the slow distutils backend.\n",
            "  warnings.warn(msg.format('we could not find ninja.'))\n",
            "reading manifest file 'xformers.egg-info/SOURCES.txt'\n",
            "reading manifest template 'MANIFEST.in'\n",
            "warning: no files found matching 'third_party/flash-attention/version.txt'\n",
            "adding license file 'LICENSE'\n",
            "writing manifest file 'xformers.egg-info/SOURCES.txt'\n",
            "installing library code to build/bdist.linux-x86_64/egg\n",
            "running install_lib\n",
            "running build_py\n",
            "creating build/lib.linux-x86_64-cpython-310/xformers/ H51\n",
            "copying xformers/ H51/__init__.py -> build/lib.linux-x86_64-cpython-310/xformers/ H51\n",
            "copying xformers/ H51/bert_padding.py -> build/lib.linux-x86_64-cpython-310/xformers/ H51\n",
            "copying xformers/ H51/flash_attn_interface.py -> build/lib.linux-x86_64-cpython-310/xformers/ H51\n",
            "copying xformers/ H51/flash_attn_triton.py -> build/lib.linux-x86_64-cpython-310/xformers/ H51\n",
            "copying xformers/ H51/flash_attn_triton_og.py -> build/lib.linux-x86_64-cpython-310/xformers/ H51\n",
            "copying xformers/ H51/flash_blocksparse_attention.py -> build/lib.linux-x86_64-cpython-310/xformers/ H51\n",
            "copying xformers/ H51/flash_blocksparse_attn_interface.py -> build/lib.linux-x86_64-cpython-310/xformers/ H51\n",
            "copying xformers/ H51/fused_softmax.py -> build/lib.linux-x86_64-cpython-310/xformers/ H51\n",
            "creating build/lib.linux-x86_64-cpython-310/xformers/_flash_attn\n",
            "copying xformers/_flash_attn/__init__.py -> build/lib.linux-x86_64-cpython-310/xformers/_flash_attn\n",
            "copying xformers/_flash_attn/bert_padding.py -> build/lib.linux-x86_64-cpython-310/xformers/_flash_attn\n",
            "copying xformers/_flash_attn/flash_attn_interface.py -> build/lib.linux-x86_64-cpython-310/xformers/_flash_attn\n",
            "copying xformers/_flash_attn/flash_attn_triton.py -> build/lib.linux-x86_64-cpython-310/xformers/_flash_attn\n",
            "copying xformers/_flash_attn/flash_attn_triton_og.py -> build/lib.linux-x86_64-cpython-310/xformers/_flash_attn\n",
            "copying xformers/_flash_attn/flash_blocksparse_attention.py -> build/lib.linux-x86_64-cpython-310/xformers/_flash_attn\n",
            "copying xformers/_flash_attn/flash_blocksparse_attn_interface.py -> build/lib.linux-x86_64-cpython-310/xformers/_flash_attn\n",
            "copying xformers/_flash_attn/fused_softmax.py -> build/lib.linux-x86_64-cpython-310/xformers/_flash_attn\n",
            "creating build/lib.linux-x86_64-cpython-310/xformers/ H51/layers\n",
            "copying xformers/ H51/layers/__init__.py -> build/lib.linux-x86_64-cpython-310/xformers/ H51/layers\n",
            "copying xformers/ H51/layers/patch_embed.py -> build/lib.linux-x86_64-cpython-310/xformers/ H51/layers\n",
            "copying xformers/ H51/layers/rotary.py -> build/lib.linux-x86_64-cpython-310/xformers/ H51/layers\n",
            "creating build/lib.linux-x86_64-cpython-310/xformers/ H51/losses\n",
            "copying xformers/ H51/losses/__init__.py -> build/lib.linux-x86_64-cpython-310/xformers/ H51/losses\n",
            "copying xformers/ H51/losses/cross_entropy.py -> build/lib.linux-x86_64-cpython-310/xformers/ H51/losses\n",
            "creating build/lib.linux-x86_64-cpython-310/xformers/ H51/models\n",
            "copying xformers/ H51/models/__init__.py -> build/lib.linux-x86_64-cpython-310/xformers/ H51/models\n",
            "copying xformers/ H51/models/baichuan.py -> build/lib.linux-x86_64-cpython-310/xformers/ H51/models\n",
            "copying xformers/ H51/models/bert.py -> build/lib.linux-x86_64-cpython-310/xformers/ H51/models\n",
            "copying xformers/ H51/models/bigcode.py -> build/lib.linux-x86_64-cpython-310/xformers/ H51/models\n",
            "copying xformers/ H51/models/btlm.py -> build/lib.linux-x86_64-cpython-310/xformers/ H51/models\n",
            "copying xformers/ H51/models/falcon.py -> build/lib.linux-x86_64-cpython-310/xformers/ H51/models\n",
            "copying xformers/ H51/models/gpt.py -> build/lib.linux-x86_64-cpython-310/xformers/ H51/models\n",
            "copying xformers/ H51/models/gpt_neox.py -> build/lib.linux-x86_64-cpython-310/xformers/ H51/models\n",
            "copying xformers/ H51/models/gptj.py -> build/lib.linux-x86_64-cpython-310/xformers/ H51/models\n",
            "copying xformers/ H51/models/llama.py -> build/lib.linux-x86_64-cpython-310/xformers/ H51/models\n",
            "copying xformers/ H51/models/opt.py -> build/lib.linux-x86_64-cpython-310/xformers/ H51/models\n",
            "copying xformers/ H51/models/vit.py -> build/lib.linux-x86_64-cpython-310/xformers/ H51/models\n",
            "creating build/lib.linux-x86_64-cpython-310/xformers/ H51/modules\n",
            "copying xformers/ H51/modules/__init__.py -> build/lib.linux-x86_64-cpython-310/xformers/ H51/modules\n",
            "copying xformers/ H51/modules/block.py -> build/lib.linux-x86_64-cpython-310/xformers/ H51/modules\n",
            "copying xformers/ H51/modules/embedding.py -> build/lib.linux-x86_64-cpython-310/xformers/ H51/modules\n",
            "copying xformers/ H51/modules/mha.py -> build/lib.linux-x86_64-cpython-310/xformers/ H51/modules\n",
            "copying xformers/ H51/modules/mlp.py -> build/lib.linux-x86_64-cpython-310/xformers/ H51/modules\n",
            "creating build/lib.linux-x86_64-cpython-310/xformers/ H51/ops\n",
            "copying xformers/ H51/ops/__init__.py -> build/lib.linux-x86_64-cpython-310/xformers/ H51/ops\n",
            "copying xformers/ H51/ops/activations.py -> build/lib.linux-x86_64-cpython-310/xformers/ H51/ops\n",
            "copying xformers/ H51/ops/fused_dense.py -> build/lib.linux-x86_64-cpython-310/xformers/ H51/ops\n",
            "copying xformers/ H51/ops/layer_norm.py -> build/lib.linux-x86_64-cpython-310/xformers/ H51/ops\n",
            "copying xformers/ H51/ops/rms_norm.py -> build/lib.linux-x86_64-cpython-310/xformers/ H51/ops\n",
            "creating build/lib.linux-x86_64-cpython-310/xformers/ H51/utils\n",
            "copying xformers/ H51/utils/__init__.py -> build/lib.linux-x86_64-cpython-310/xformers/ H51/utils\n",
            "copying xformers/ H51/utils/benchmark.py -> build/lib.linux-x86_64-cpython-310/xformers/ H51/utils\n",
            "copying xformers/ H51/utils/distributed.py -> build/lib.linux-x86_64-cpython-310/xformers/ H51/utils\n",
            "copying xformers/ H51/utils/generation.py -> build/lib.linux-x86_64-cpython-310/xformers/ H51/utils\n",
            "copying xformers/ H51/utils/pretrained.py -> build/lib.linux-x86_64-cpython-310/xformers/ H51/utils\n",
            "creating build/lib.linux-x86_64-cpython-310/xformers/ H51/ops/triton\n",
            "copying xformers/ H51/ops/triton/__init__.py -> build/lib.linux-x86_64-cpython-310/xformers/ H51/ops/triton\n",
            "copying xformers/ H51/ops/triton/cross_entropy.py -> build/lib.linux-x86_64-cpython-310/xformers/ H51/ops/triton\n",
            "copying xformers/ H51/ops/triton/k_activations.py -> build/lib.linux-x86_64-cpython-310/xformers/ H51/ops/triton\n",
            "copying xformers/ H51/ops/triton/layer_norm.py -> build/lib.linux-x86_64-cpython-310/xformers/ H51/ops/triton\n",
            "copying xformers/ H51/ops/triton/linear.py -> build/lib.linux-x86_64-cpython-310/xformers/ H51/ops/triton\n",
            "copying xformers/ H51/ops/triton/mlp.py -> build/lib.linux-x86_64-cpython-310/xformers/ H51/ops/triton\n",
            "copying xformers/ H51/ops/triton/rotary.py -> build/lib.linux-x86_64-cpython-310/xformers/ H51/ops/triton\n",
            "creating build/lib.linux-x86_64-cpython-310/xformers/_flash_attn/layers\n",
            "copying xformers/_flash_attn/layers/__init__.py -> build/lib.linux-x86_64-cpython-310/xformers/_flash_attn/layers\n",
            "copying xformers/_flash_attn/layers/patch_embed.py -> build/lib.linux-x86_64-cpython-310/xformers/_flash_attn/layers\n",
            "copying xformers/_flash_attn/layers/rotary.py -> build/lib.linux-x86_64-cpython-310/xformers/_flash_attn/layers\n",
            "creating build/lib.linux-x86_64-cpython-310/xformers/_flash_attn/losses\n",
            "copying xformers/_flash_attn/losses/__init__.py -> build/lib.linux-x86_64-cpython-310/xformers/_flash_attn/losses\n",
            "copying xformers/_flash_attn/losses/cross_entropy.py -> build/lib.linux-x86_64-cpython-310/xformers/_flash_attn/losses\n",
            "creating build/lib.linux-x86_64-cpython-310/xformers/_flash_attn/models\n",
            "copying xformers/_flash_attn/models/__init__.py -> build/lib.linux-x86_64-cpython-310/xformers/_flash_attn/models\n",
            "copying xformers/_flash_attn/models/baichuan.py -> build/lib.linux-x86_64-cpython-310/xformers/_flash_attn/models\n",
            "copying xformers/_flash_attn/models/bert.py -> build/lib.linux-x86_64-cpython-310/xformers/_flash_attn/models\n",
            "copying xformers/_flash_attn/models/bigcode.py -> build/lib.linux-x86_64-cpython-310/xformers/_flash_attn/models\n",
            "copying xformers/_flash_attn/models/btlm.py -> build/lib.linux-x86_64-cpython-310/xformers/_flash_attn/models\n",
            "copying xformers/_flash_attn/models/falcon.py -> build/lib.linux-x86_64-cpython-310/xformers/_flash_attn/models\n",
            "copying xformers/_flash_attn/models/gpt.py -> build/lib.linux-x86_64-cpython-310/xformers/_flash_attn/models\n",
            "copying xformers/_flash_attn/models/gpt_neox.py -> build/lib.linux-x86_64-cpython-310/xformers/_flash_attn/models\n",
            "copying xformers/_flash_attn/models/gptj.py -> build/lib.linux-x86_64-cpython-310/xformers/_flash_attn/models\n",
            "copying xformers/_flash_attn/models/llama.py -> build/lib.linux-x86_64-cpython-310/xformers/_flash_attn/models\n",
            "copying xformers/_flash_attn/models/opt.py -> build/lib.linux-x86_64-cpython-310/xformers/_flash_attn/models\n",
            "copying xformers/_flash_attn/models/vit.py -> build/lib.linux-x86_64-cpython-310/xformers/_flash_attn/models\n",
            "creating build/lib.linux-x86_64-cpython-310/xformers/_flash_attn/modules\n",
            "copying xformers/_flash_attn/modules/__init__.py -> build/lib.linux-x86_64-cpython-310/xformers/_flash_attn/modules\n",
            "copying xformers/_flash_attn/modules/block.py -> build/lib.linux-x86_64-cpython-310/xformers/_flash_attn/modules\n",
            "copying xformers/_flash_attn/modules/embedding.py -> build/lib.linux-x86_64-cpython-310/xformers/_flash_attn/modules\n",
            "copying xformers/_flash_attn/modules/mha.py -> build/lib.linux-x86_64-cpython-310/xformers/_flash_attn/modules\n",
            "copying xformers/_flash_attn/modules/mlp.py -> build/lib.linux-x86_64-cpython-310/xformers/_flash_attn/modules\n",
            "creating build/lib.linux-x86_64-cpython-310/xformers/_flash_attn/ops\n",
            "copying xformers/_flash_attn/ops/__init__.py -> build/lib.linux-x86_64-cpython-310/xformers/_flash_attn/ops\n",
            "copying xformers/_flash_attn/ops/activations.py -> build/lib.linux-x86_64-cpython-310/xformers/_flash_attn/ops\n",
            "copying xformers/_flash_attn/ops/fused_dense.py -> build/lib.linux-x86_64-cpython-310/xformers/_flash_attn/ops\n",
            "copying xformers/_flash_attn/ops/layer_norm.py -> build/lib.linux-x86_64-cpython-310/xformers/_flash_attn/ops\n",
            "copying xformers/_flash_attn/ops/rms_norm.py -> build/lib.linux-x86_64-cpython-310/xformers/_flash_attn/ops\n",
            "creating build/lib.linux-x86_64-cpython-310/xformers/_flash_attn/utils\n",
            "copying xformers/_flash_attn/utils/__init__.py -> build/lib.linux-x86_64-cpython-310/xformers/_flash_attn/utils\n",
            "copying xformers/_flash_attn/utils/benchmark.py -> build/lib.linux-x86_64-cpython-310/xformers/_flash_attn/utils\n",
            "copying xformers/_flash_attn/utils/distributed.py -> build/lib.linux-x86_64-cpython-310/xformers/_flash_attn/utils\n",
            "copying xformers/_flash_attn/utils/generation.py -> build/lib.linux-x86_64-cpython-310/xformers/_flash_attn/utils\n",
            "copying xformers/_flash_attn/utils/pretrained.py -> build/lib.linux-x86_64-cpython-310/xformers/_flash_attn/utils\n",
            "creating build/lib.linux-x86_64-cpython-310/xformers/_flash_attn/ops/triton\n",
            "copying xformers/_flash_attn/ops/triton/__init__.py -> build/lib.linux-x86_64-cpython-310/xformers/_flash_attn/ops/triton\n",
            "copying xformers/_flash_attn/ops/triton/cross_entropy.py -> build/lib.linux-x86_64-cpython-310/xformers/_flash_attn/ops/triton\n",
            "copying xformers/_flash_attn/ops/triton/k_activations.py -> build/lib.linux-x86_64-cpython-310/xformers/_flash_attn/ops/triton\n",
            "copying xformers/_flash_attn/ops/triton/layer_norm.py -> build/lib.linux-x86_64-cpython-310/xformers/_flash_attn/ops/triton\n",
            "copying xformers/_flash_attn/ops/triton/linear.py -> build/lib.linux-x86_64-cpython-310/xformers/_flash_attn/ops/triton\n",
            "copying xformers/_flash_attn/ops/triton/mlp.py -> build/lib.linux-x86_64-cpython-310/xformers/_flash_attn/ops/triton\n",
            "copying xformers/_flash_attn/ops/triton/rotary.py -> build/lib.linux-x86_64-cpython-310/xformers/_flash_attn/ops/triton\n",
            "running build_ext\n",
            "/usr/local/lib/python3.10/dist-packages/torch/utils/cpp_extension.py:414: UserWarning: The detected CUDA version (12.2) has a minor version mismatch with the version that was used to compile PyTorch (12.1). Most likely this shouldn't be a problem.\n",
            "  warnings.warn(CUDA_MISMATCH_WARN.format(cuda_str_version, torch.version.cuda))\n",
            "/usr/local/lib/python3.10/dist-packages/torch/utils/cpp_extension.py:424: UserWarning: There are no x86_64-linux-gnu-g++ version bounds defined for CUDA version 12.2\n",
            "  warnings.warn(f'There are no {compiler_name} version bounds defined for CUDA version {cuda_str_version}')\n",
            "creating build/bdist.linux-x86_64/egg\n",
            "creating build/bdist.linux-x86_64/egg/xformers\n",
            "copying build/lib.linux-x86_64-cpython-310/xformers/attn_bias_utils.py -> build/bdist.linux-x86_64/egg/xformers\n",
            "copying build/lib.linux-x86_64-cpython-310/xformers/_deprecation_warning.py -> build/bdist.linux-x86_64/egg/xformers\n",
            "copying build/lib.linux-x86_64-cpython-310/xformers/_cpp_lib.py -> build/bdist.linux-x86_64/egg/xformers\n",
            "copying build/lib.linux-x86_64-cpython-310/xformers/__init__.py -> build/bdist.linux-x86_64/egg/xformers\n",
            "copying build/lib.linux-x86_64-cpython-310/xformers/checkpoint.py -> build/bdist.linux-x86_64/egg/xformers\n",
            "copying build/lib.linux-x86_64-cpython-310/xformers/info.py -> build/bdist.linux-x86_64/egg/xformers\n",
            "copying build/lib.linux-x86_64-cpython-310/xformers/utils.py -> build/bdist.linux-x86_64/egg/xformers\n",
            "copying build/lib.linux-x86_64-cpython-310/xformers/test.py -> build/bdist.linux-x86_64/egg/xformers\n",
            "creating build/bdist.linux-x86_64/egg/xformers/benchmarks\n",
            "copying build/lib.linux-x86_64-cpython-310/xformers/benchmarks/benchmark_blocksparse_transformers.py -> build/bdist.linux-x86_64/egg/xformers/benchmarks\n",
            "copying build/lib.linux-x86_64-cpython-310/xformers/benchmarks/benchmark_mem_eff_attention.py -> build/bdist.linux-x86_64/egg/xformers/benchmarks\n",
            "copying build/lib.linux-x86_64-cpython-310/xformers/benchmarks/benchmark_indexing.py -> build/bdist.linux-x86_64/egg/xformers/benchmarks\n",
            "copying build/lib.linux-x86_64-cpython-310/xformers/benchmarks/benchmark_causal_blocksparse.py -> build/bdist.linux-x86_64/egg/xformers/benchmarks\n",
            "copying build/lib.linux-x86_64-cpython-310/xformers/benchmarks/benchmark_sddmm.py -> build/bdist.linux-x86_64/egg/xformers/benchmarks\n",
            "copying build/lib.linux-x86_64-cpython-310/xformers/benchmarks/benchmark_merge_attentions.py -> build/bdist.linux-x86_64/egg/xformers/benchmarks\n",
            "copying build/lib.linux-x86_64-cpython-310/xformers/benchmarks/benchmark_tiled_matmul.py -> build/bdist.linux-x86_64/egg/xformers/benchmarks\n",
            "copying build/lib.linux-x86_64-cpython-310/xformers/benchmarks/benchmark_revnet.py -> build/bdist.linux-x86_64/egg/xformers/benchmarks\n",
            "copying build/lib.linux-x86_64-cpython-310/xformers/benchmarks/__init__.py -> build/bdist.linux-x86_64/egg/xformers/benchmarks\n",
            "copying build/lib.linux-x86_64-cpython-310/xformers/benchmarks/benchmark_core.py -> build/bdist.linux-x86_64/egg/xformers/benchmarks\n",
            "copying build/lib.linux-x86_64-cpython-310/xformers/benchmarks/benchmark_attn_decoding.py -> build/bdist.linux-x86_64/egg/xformers/benchmarks\n",
            "copying build/lib.linux-x86_64-cpython-310/xformers/benchmarks/benchmark_nystrom_utils.py -> build/bdist.linux-x86_64/egg/xformers/benchmarks\n",
            "copying build/lib.linux-x86_64-cpython-310/xformers/benchmarks/benchmark_sequence_parallel_fused.py -> build/bdist.linux-x86_64/egg/xformers/benchmarks\n",
            "copying build/lib.linux-x86_64-cpython-310/xformers/benchmarks/benchmark_multi_head_dispatch.py -> build/bdist.linux-x86_64/egg/xformers/benchmarks\n",
            "copying build/lib.linux-x86_64-cpython-310/xformers/benchmarks/benchmark_swiglu.py -> build/bdist.linux-x86_64/egg/xformers/benchmarks\n",
            "copying build/lib.linux-x86_64-cpython-310/xformers/benchmarks/benchmark_sp24.py -> build/bdist.linux-x86_64/egg/xformers/benchmarks\n",
            "copying build/lib.linux-x86_64-cpython-310/xformers/benchmarks/utils.py -> build/bdist.linux-x86_64/egg/xformers/benchmarks\n",
            "copying build/lib.linux-x86_64-cpython-310/xformers/benchmarks/benchmark_triton_blocksparse.py -> build/bdist.linux-x86_64/egg/xformers/benchmarks\n",
            "creating build/bdist.linux-x86_64/egg/xformers/benchmarks/LRA\n",
            "copying build/lib.linux-x86_64-cpython-310/xformers/benchmarks/LRA/run_tasks.py -> build/bdist.linux-x86_64/egg/xformers/benchmarks/LRA\n",
            "copying build/lib.linux-x86_64-cpython-310/xformers/benchmarks/LRA/batch_fetch_results.py -> build/bdist.linux-x86_64/egg/xformers/benchmarks/LRA\n",
            "copying build/lib.linux-x86_64-cpython-310/xformers/benchmarks/LRA/__init__.py -> build/bdist.linux-x86_64/egg/xformers/benchmarks/LRA\n",
            "copying build/lib.linux-x86_64-cpython-310/xformers/benchmarks/LRA/run_grid_search.py -> build/bdist.linux-x86_64/egg/xformers/benchmarks/LRA\n",
            "copying build/lib.linux-x86_64-cpython-310/xformers/benchmarks/LRA/run_with_submitit.py -> build/bdist.linux-x86_64/egg/xformers/benchmarks/LRA\n",
            "copying build/lib.linux-x86_64-cpython-310/xformers/benchmarks/LRA/batch_submit.py -> build/bdist.linux-x86_64/egg/xformers/benchmarks/LRA\n",
            "creating build/bdist.linux-x86_64/egg/xformers/benchmarks/LRA/code\n",
            "copying build/lib.linux-x86_64-cpython-310/xformers/benchmarks/LRA/code/dataset.py -> build/bdist.linux-x86_64/egg/xformers/benchmarks/LRA/code\n",
            "copying build/lib.linux-x86_64-cpython-310/xformers/benchmarks/LRA/code/__init__.py -> build/bdist.linux-x86_64/egg/xformers/benchmarks/LRA/code\n",
            "copying build/lib.linux-x86_64-cpython-310/xformers/benchmarks/LRA/code/model_wrapper.py -> build/bdist.linux-x86_64/egg/xformers/benchmarks/LRA/code\n",
            "creating build/bdist.linux-x86_64/egg/xformers/components\n",
            "copying build/lib.linux-x86_64-cpython-310/xformers/components/__init__.py -> build/bdist.linux-x86_64/egg/xformers/components\n",
            "copying build/lib.linux-x86_64-cpython-310/xformers/components/reversible.py -> build/bdist.linux-x86_64/egg/xformers/components\n",
            "copying build/lib.linux-x86_64-cpython-310/xformers/components/patch_embedding.py -> build/bdist.linux-x86_64/egg/xformers/components\n",
            "copying build/lib.linux-x86_64-cpython-310/xformers/components/activations.py -> build/bdist.linux-x86_64/egg/xformers/components\n",
            "copying build/lib.linux-x86_64-cpython-310/xformers/components/simplicial_embedding.py -> build/bdist.linux-x86_64/egg/xformers/components\n",
            "copying build/lib.linux-x86_64-cpython-310/xformers/components/multi_head_dispatch.py -> build/bdist.linux-x86_64/egg/xformers/components\n",
            "copying build/lib.linux-x86_64-cpython-310/xformers/components/input_projection.py -> build/bdist.linux-x86_64/egg/xformers/components\n",
            "copying build/lib.linux-x86_64-cpython-310/xformers/components/residual.py -> build/bdist.linux-x86_64/egg/xformers/components\n",
            "creating build/bdist.linux-x86_64/egg/xformers/components/attention\n",
            "copying build/lib.linux-x86_64-cpython-310/xformers/components/attention/core.py -> build/bdist.linux-x86_64/egg/xformers/components/attention\n",
            "copying build/lib.linux-x86_64-cpython-310/xformers/components/attention/pooling.py -> build/bdist.linux-x86_64/egg/xformers/components/attention\n",
            "copying build/lib.linux-x86_64-cpython-310/xformers/components/attention/blocksparse.py -> build/bdist.linux-x86_64/egg/xformers/components/attention\n",
            "copying build/lib.linux-x86_64-cpython-310/xformers/components/attention/linformer.py -> build/bdist.linux-x86_64/egg/xformers/components/attention\n",
            "copying build/lib.linux-x86_64-cpython-310/xformers/components/attention/utils.py -> build/bdist.linux-x86_64/egg/xformers/components/attention\n",
            "copying build/lib.linux-x86_64-cpython-310/xformers/components/attention/global_tokens.py -> build/bdist.linux-x86_64/egg/xformers/components/attention\n",
            "copying build/lib.linux-x86_64-cpython-310/xformers/components/attention/visual.py -> build/bdist.linux-x86_64/egg/xformers/components/attention\n",
            "copying build/lib.linux-x86_64-cpython-310/xformers/components/attention/compositional.py -> build/bdist.linux-x86_64/egg/xformers/components/attention\n",
            "copying build/lib.linux-x86_64-cpython-310/xformers/components/attention/attention_mask.py -> build/bdist.linux-x86_64/egg/xformers/components/attention\n",
            "copying build/lib.linux-x86_64-cpython-310/xformers/components/attention/__init__.py -> build/bdist.linux-x86_64/egg/xformers/components/attention\n",
            "copying build/lib.linux-x86_64-cpython-310/xformers/components/attention/attention_patterns.py -> build/bdist.linux-x86_64/egg/xformers/components/attention\n",
            "copying build/lib.linux-x86_64-cpython-310/xformers/components/attention/_sputnik_sparse.py -> build/bdist.linux-x86_64/egg/xformers/components/attention\n",
            "copying build/lib.linux-x86_64-cpython-310/xformers/components/attention/lambda_layer.py -> build/bdist.linux-x86_64/egg/xformers/components/attention\n",
            "copying build/lib.linux-x86_64-cpython-310/xformers/components/attention/nystrom.py -> build/bdist.linux-x86_64/egg/xformers/components/attention\n",
            "copying build/lib.linux-x86_64-cpython-310/xformers/components/attention/base.py -> build/bdist.linux-x86_64/egg/xformers/components/attention\n",
            "copying build/lib.linux-x86_64-cpython-310/xformers/components/attention/ortho.py -> build/bdist.linux-x86_64/egg/xformers/components/attention\n",
            "copying build/lib.linux-x86_64-cpython-310/xformers/components/attention/local.py -> build/bdist.linux-x86_64/egg/xformers/components/attention\n",
            "copying build/lib.linux-x86_64-cpython-310/xformers/components/attention/sparsity_config.py -> build/bdist.linux-x86_64/egg/xformers/components/attention\n",
            "copying build/lib.linux-x86_64-cpython-310/xformers/components/attention/random.py -> build/bdist.linux-x86_64/egg/xformers/components/attention\n",
            "copying build/lib.linux-x86_64-cpython-310/xformers/components/attention/fourier_mix.py -> build/bdist.linux-x86_64/egg/xformers/components/attention\n",
            "copying build/lib.linux-x86_64-cpython-310/xformers/components/attention/favor.py -> build/bdist.linux-x86_64/egg/xformers/components/attention\n",
            "copying build/lib.linux-x86_64-cpython-310/xformers/components/attention/scaled_dot_product.py -> build/bdist.linux-x86_64/egg/xformers/components/attention\n",
            "creating build/bdist.linux-x86_64/egg/xformers/components/attention/feature_maps\n",
            "copying build/lib.linux-x86_64-cpython-310/xformers/components/attention/feature_maps/__init__.py -> build/bdist.linux-x86_64/egg/xformers/components/attention/feature_maps\n",
            "copying build/lib.linux-x86_64-cpython-310/xformers/components/attention/feature_maps/softmax.py -> build/bdist.linux-x86_64/egg/xformers/components/attention/feature_maps\n",
            "copying build/lib.linux-x86_64-cpython-310/xformers/components/attention/feature_maps/base.py -> build/bdist.linux-x86_64/egg/xformers/components/attention/feature_maps\n",
            "creating build/bdist.linux-x86_64/egg/xformers/components/feedforward\n",
            "copying build/lib.linux-x86_64-cpython-310/xformers/components/feedforward/base.py -> build/bdist.linux-x86_64/egg/xformers/components/feedforward\n",
            "copying build/lib.linux-x86_64-cpython-310/xformers/components/feedforward/conv_mlp.py -> build/bdist.linux-x86_64/egg/xformers/components/feedforward\n",
            "copying build/lib.linux-x86_64-cpython-310/xformers/components/feedforward/mlp.py -> build/bdist.linux-x86_64/egg/xformers/components/feedforward\n",
            "copying build/lib.linux-x86_64-cpython-310/xformers/components/feedforward/__init__.py -> build/bdist.linux-x86_64/egg/xformers/components/feedforward\n",
            "copying build/lib.linux-x86_64-cpython-310/xformers/components/feedforward/mixture_of_experts.py -> build/bdist.linux-x86_64/egg/xformers/components/feedforward\n",
            "creating build/bdist.linux-x86_64/egg/xformers/components/positional_embedding\n",
            "copying build/lib.linux-x86_64-cpython-310/xformers/components/positional_embedding/param.py -> build/bdist.linux-x86_64/egg/xformers/components/positional_embedding\n",
            "copying build/lib.linux-x86_64-cpython-310/xformers/components/positional_embedding/rotary.py -> build/bdist.linux-x86_64/egg/xformers/components/positional_embedding\n",
            "copying build/lib.linux-x86_64-cpython-310/xformers/components/positional_embedding/vocab.py -> build/bdist.linux-x86_64/egg/xformers/components/positional_embedding\n",
            "copying build/lib.linux-x86_64-cpython-310/xformers/components/positional_embedding/base.py -> build/bdist.linux-x86_64/egg/xformers/components/positional_embedding\n",
            "copying build/lib.linux-x86_64-cpython-310/xformers/components/positional_embedding/sine.py -> build/bdist.linux-x86_64/egg/xformers/components/positional_embedding\n",
            "copying build/lib.linux-x86_64-cpython-310/xformers/components/positional_embedding/__init__.py -> build/bdist.linux-x86_64/egg/xformers/components/positional_embedding\n",
            "creating build/bdist.linux-x86_64/egg/xformers/factory\n",
            "copying build/lib.linux-x86_64-cpython-310/xformers/factory/model_factory.py -> build/bdist.linux-x86_64/egg/xformers/factory\n",
            "copying build/lib.linux-x86_64-cpython-310/xformers/factory/block_factory.py -> build/bdist.linux-x86_64/egg/xformers/factory\n",
            "copying build/lib.linux-x86_64-cpython-310/xformers/factory/block_configs.py -> build/bdist.linux-x86_64/egg/xformers/factory\n",
            "copying build/lib.linux-x86_64-cpython-310/xformers/factory/hydra_helper.py -> build/bdist.linux-x86_64/egg/xformers/factory\n",
            "copying build/lib.linux-x86_64-cpython-310/xformers/factory/weight_init.py -> build/bdist.linux-x86_64/egg/xformers/factory\n",
            "copying build/lib.linux-x86_64-cpython-310/xformers/factory/__init__.py -> build/bdist.linux-x86_64/egg/xformers/factory\n",
            "creating build/bdist.linux-x86_64/egg/xformers/helpers\n",
            "copying build/lib.linux-x86_64-cpython-310/xformers/helpers/hierarchical_configs.py -> build/bdist.linux-x86_64/egg/xformers/helpers\n",
            "copying build/lib.linux-x86_64-cpython-310/xformers/helpers/timm_sparse_attention.py -> build/bdist.linux-x86_64/egg/xformers/helpers\n",
            "copying build/lib.linux-x86_64-cpython-310/xformers/helpers/test_utils.py -> build/bdist.linux-x86_64/egg/xformers/helpers\n",
            "copying build/lib.linux-x86_64-cpython-310/xformers/helpers/__init__.py -> build/bdist.linux-x86_64/egg/xformers/helpers\n",
            "creating build/bdist.linux-x86_64/egg/xformers/ops\n",
            "copying build/lib.linux-x86_64-cpython-310/xformers/ops/tiled_matmul.py -> build/bdist.linux-x86_64/egg/xformers/ops\n",
            "copying build/lib.linux-x86_64-cpython-310/xformers/ops/common.py -> build/bdist.linux-x86_64/egg/xformers/ops\n",
            "copying build/lib.linux-x86_64-cpython-310/xformers/ops/__init__.py -> build/bdist.linux-x86_64/egg/xformers/ops\n",
            "copying build/lib.linux-x86_64-cpython-310/xformers/ops/rope_padded.py -> build/bdist.linux-x86_64/egg/xformers/ops\n",
            "copying build/lib.linux-x86_64-cpython-310/xformers/ops/seqpar.py -> build/bdist.linux-x86_64/egg/xformers/ops\n",
            "copying build/lib.linux-x86_64-cpython-310/xformers/ops/rmsnorm.py -> build/bdist.linux-x86_64/egg/xformers/ops\n",
            "copying build/lib.linux-x86_64-cpython-310/xformers/ops/sequence_parallel_fused_ops.py -> build/bdist.linux-x86_64/egg/xformers/ops\n",
            "copying build/lib.linux-x86_64-cpython-310/xformers/ops/swiglu_op.py -> build/bdist.linux-x86_64/egg/xformers/ops\n",
            "copying build/lib.linux-x86_64-cpython-310/xformers/ops/sp24.py -> build/bdist.linux-x86_64/egg/xformers/ops\n",
            "copying build/lib.linux-x86_64-cpython-310/xformers/ops/unbind.py -> build/bdist.linux-x86_64/egg/xformers/ops\n",
            "copying build/lib.linux-x86_64-cpython-310/xformers/ops/indexing.py -> build/bdist.linux-x86_64/egg/xformers/ops\n",
            "copying build/lib.linux-x86_64-cpython-310/xformers/ops/differentiable_collectives.py -> build/bdist.linux-x86_64/egg/xformers/ops\n",
            "copying build/lib.linux-x86_64-cpython-310/xformers/ops/modpar_layers.py -> build/bdist.linux-x86_64/egg/xformers/ops\n",
            "copying build/lib.linux-x86_64-cpython-310/xformers/ops/ipc.py -> build/bdist.linux-x86_64/egg/xformers/ops\n",
            "creating build/bdist.linux-x86_64/egg/xformers/ops/_triton\n",
            "copying build/lib.linux-x86_64-cpython-310/xformers/ops/_triton/tiled_matmul_kernels.py -> build/bdist.linux-x86_64/egg/xformers/ops/_triton\n",
            "copying build/lib.linux-x86_64-cpython-310/xformers/ops/_triton/rmsnorm_kernels.py -> build/bdist.linux-x86_64/egg/xformers/ops/_triton\n",
            "copying build/lib.linux-x86_64-cpython-310/xformers/ops/_triton/__init__.py -> build/bdist.linux-x86_64/egg/xformers/ops/_triton\n",
            "copying build/lib.linux-x86_64-cpython-310/xformers/ops/_triton/k_scaled_index_add.py -> build/bdist.linux-x86_64/egg/xformers/ops/_triton\n",
            "copying build/lib.linux-x86_64-cpython-310/xformers/ops/_triton/k_index_select_cat.py -> build/bdist.linux-x86_64/egg/xformers/ops/_triton\n",
            "copying build/lib.linux-x86_64-cpython-310/xformers/ops/_triton/rope_padded_kernels.py -> build/bdist.linux-x86_64/egg/xformers/ops/_triton\n",
            "copying build/lib.linux-x86_64-cpython-310/xformers/ops/_triton/sequence_parallel_fused_kernels.py -> build/bdist.linux-x86_64/egg/xformers/ops/_triton\n",
            "creating build/bdist.linux-x86_64/egg/xformers/ops/fmha\n",
            "copying build/lib.linux-x86_64-cpython-310/xformers/ops/fmha/ck_decoder.py -> build/bdist.linux-x86_64/egg/xformers/ops/fmha\n",
            "copying build/lib.linux-x86_64-cpython-310/xformers/ops/fmha/triton_splitk.py -> build/bdist.linux-x86_64/egg/xformers/ops/fmha\n",
            "copying build/lib.linux-x86_64-cpython-310/xformers/ops/fmha/ck.py -> build/bdist.linux-x86_64/egg/xformers/ops/fmha\n",
            "copying build/lib.linux-x86_64-cpython-310/xformers/ops/fmha/torch_attention_compat.py -> build/bdist.linux-x86_64/egg/xformers/ops/fmha\n",
            "copying build/lib.linux-x86_64-cpython-310/xformers/ops/fmha/__init__.py -> build/bdist.linux-x86_64/egg/xformers/ops/fmha\n",
            "copying build/lib.linux-x86_64-cpython-310/xformers/ops/fmha/decoder.py -> build/bdist.linux-x86_64/egg/xformers/ops/fmha\n",
            "copying build/lib.linux-x86_64-cpython-310/xformers/ops/fmha/common.py -> build/bdist.linux-x86_64/egg/xformers/ops/fmha\n",
            "copying build/lib.linux-x86_64-cpython-310/xformers/ops/fmha/dispatch.py -> build/bdist.linux-x86_64/egg/xformers/ops/fmha\n",
            "copying build/lib.linux-x86_64-cpython-310/xformers/ops/fmha/attn_bias.py -> build/bdist.linux-x86_64/egg/xformers/ops/fmha\n",
            "copying build/lib.linux-x86_64-cpython-310/xformers/ops/fmha/cutlass.py -> build/bdist.linux-x86_64/egg/xformers/ops/fmha\n",
            "copying build/lib.linux-x86_64-cpython-310/xformers/ops/fmha/ck_splitk.py -> build/bdist.linux-x86_64/egg/xformers/ops/fmha\n",
            "copying build/lib.linux-x86_64-cpython-310/xformers/ops/fmha/flash.py -> build/bdist.linux-x86_64/egg/xformers/ops/fmha\n",
            "copying build/lib.linux-x86_64-cpython-310/xformers/ops/fmha/small_k.py -> build/bdist.linux-x86_64/egg/xformers/ops/fmha\n",
            "creating build/bdist.linux-x86_64/egg/xformers/profiler\n",
            "copying build/lib.linux-x86_64-cpython-310/xformers/profiler/__init__.py -> build/bdist.linux-x86_64/egg/xformers/profiler\n",
            "copying build/lib.linux-x86_64-cpython-310/xformers/profiler/slow_ops_profiler.py -> build/bdist.linux-x86_64/egg/xformers/profiler\n",
            "copying build/lib.linux-x86_64-cpython-310/xformers/profiler/profiler.py -> build/bdist.linux-x86_64/egg/xformers/profiler\n",
            "copying build/lib.linux-x86_64-cpython-310/xformers/profiler/find_slowest.py -> build/bdist.linux-x86_64/egg/xformers/profiler\n",
            "copying build/lib.linux-x86_64-cpython-310/xformers/profiler/profile_analyzer.py -> build/bdist.linux-x86_64/egg/xformers/profiler\n",
            "copying build/lib.linux-x86_64-cpython-310/xformers/profiler/profiler_dcgm.py -> build/bdist.linux-x86_64/egg/xformers/profiler\n",
            "copying build/lib.linux-x86_64-cpython-310/xformers/profiler/device_limits.py -> build/bdist.linux-x86_64/egg/xformers/profiler\n",
            "copying build/lib.linux-x86_64-cpython-310/xformers/profiler/profiler_dcgm_impl.py -> build/bdist.linux-x86_64/egg/xformers/profiler\n",
            "copying build/lib.linux-x86_64-cpython-310/xformers/profiler/api.py -> build/bdist.linux-x86_64/egg/xformers/profiler\n",
            "creating build/bdist.linux-x86_64/egg/xformers/sparse\n",
            "copying build/lib.linux-x86_64-cpython-310/xformers/sparse/_csr_ops.py -> build/bdist.linux-x86_64/egg/xformers/sparse\n",
            "copying build/lib.linux-x86_64-cpython-310/xformers/sparse/__init__.py -> build/bdist.linux-x86_64/egg/xformers/sparse\n",
            "copying build/lib.linux-x86_64-cpython-310/xformers/sparse/blocksparse_tensor.py -> build/bdist.linux-x86_64/egg/xformers/sparse\n",
            "copying build/lib.linux-x86_64-cpython-310/xformers/sparse/csr_tensor.py -> build/bdist.linux-x86_64/egg/xformers/sparse\n",
            "copying build/lib.linux-x86_64-cpython-310/xformers/sparse/utils.py -> build/bdist.linux-x86_64/egg/xformers/sparse\n",
            "creating build/bdist.linux-x86_64/egg/xformers/triton\n",
            "copying build/lib.linux-x86_64-cpython-310/xformers/triton/vararg_kernel.py -> build/bdist.linux-x86_64/egg/xformers/triton\n",
            "copying build/lib.linux-x86_64-cpython-310/xformers/triton/__init__.py -> build/bdist.linux-x86_64/egg/xformers/triton\n",
            "copying build/lib.linux-x86_64-cpython-310/xformers/_C.so -> build/bdist.linux-x86_64/egg/xformers\n",
            "copying build/lib.linux-x86_64-cpython-310/xformers/version.py -> build/bdist.linux-x86_64/egg/xformers\n",
            "copying build/lib.linux-x86_64-cpython-310/xformers/cpp_lib.json -> build/bdist.linux-x86_64/egg/xformers\n",
            "creating build/bdist.linux-x86_64/egg/xformers/ H51\n",
            "copying build/lib.linux-x86_64-cpython-310/xformers/ H51/__init__.py -> build/bdist.linux-x86_64/egg/xformers/ H51\n",
            "copying build/lib.linux-x86_64-cpython-310/xformers/ H51/bert_padding.py -> build/bdist.linux-x86_64/egg/xformers/ H51\n",
            "copying build/lib.linux-x86_64-cpython-310/xformers/ H51/flash_attn_interface.py -> build/bdist.linux-x86_64/egg/xformers/ H51\n",
            "copying build/lib.linux-x86_64-cpython-310/xformers/ H51/flash_attn_triton.py -> build/bdist.linux-x86_64/egg/xformers/ H51\n",
            "copying build/lib.linux-x86_64-cpython-310/xformers/ H51/flash_attn_triton_og.py -> build/bdist.linux-x86_64/egg/xformers/ H51\n",
            "copying build/lib.linux-x86_64-cpython-310/xformers/ H51/flash_blocksparse_attention.py -> build/bdist.linux-x86_64/egg/xformers/ H51\n",
            "copying build/lib.linux-x86_64-cpython-310/xformers/ H51/flash_blocksparse_attn_interface.py -> build/bdist.linux-x86_64/egg/xformers/ H51\n",
            "copying build/lib.linux-x86_64-cpython-310/xformers/ H51/fused_softmax.py -> build/bdist.linux-x86_64/egg/xformers/ H51\n",
            "creating build/bdist.linux-x86_64/egg/xformers/ H51/layers\n",
            "copying build/lib.linux-x86_64-cpython-310/xformers/ H51/layers/__init__.py -> build/bdist.linux-x86_64/egg/xformers/ H51/layers\n",
            "copying build/lib.linux-x86_64-cpython-310/xformers/ H51/layers/patch_embed.py -> build/bdist.linux-x86_64/egg/xformers/ H51/layers\n",
            "copying build/lib.linux-x86_64-cpython-310/xformers/ H51/layers/rotary.py -> build/bdist.linux-x86_64/egg/xformers/ H51/layers\n",
            "creating build/bdist.linux-x86_64/egg/xformers/ H51/losses\n",
            "copying build/lib.linux-x86_64-cpython-310/xformers/ H51/losses/__init__.py -> build/bdist.linux-x86_64/egg/xformers/ H51/losses\n",
            "copying build/lib.linux-x86_64-cpython-310/xformers/ H51/losses/cross_entropy.py -> build/bdist.linux-x86_64/egg/xformers/ H51/losses\n",
            "creating build/bdist.linux-x86_64/egg/xformers/ H51/models\n",
            "copying build/lib.linux-x86_64-cpython-310/xformers/ H51/models/__init__.py -> build/bdist.linux-x86_64/egg/xformers/ H51/models\n",
            "copying build/lib.linux-x86_64-cpython-310/xformers/ H51/models/baichuan.py -> build/bdist.linux-x86_64/egg/xformers/ H51/models\n",
            "copying build/lib.linux-x86_64-cpython-310/xformers/ H51/models/bert.py -> build/bdist.linux-x86_64/egg/xformers/ H51/models\n",
            "copying build/lib.linux-x86_64-cpython-310/xformers/ H51/models/bigcode.py -> build/bdist.linux-x86_64/egg/xformers/ H51/models\n",
            "copying build/lib.linux-x86_64-cpython-310/xformers/ H51/models/btlm.py -> build/bdist.linux-x86_64/egg/xformers/ H51/models\n",
            "copying build/lib.linux-x86_64-cpython-310/xformers/ H51/models/falcon.py -> build/bdist.linux-x86_64/egg/xformers/ H51/models\n",
            "copying build/lib.linux-x86_64-cpython-310/xformers/ H51/models/gpt.py -> build/bdist.linux-x86_64/egg/xformers/ H51/models\n",
            "copying build/lib.linux-x86_64-cpython-310/xformers/ H51/models/gpt_neox.py -> build/bdist.linux-x86_64/egg/xformers/ H51/models\n",
            "copying build/lib.linux-x86_64-cpython-310/xformers/ H51/models/gptj.py -> build/bdist.linux-x86_64/egg/xformers/ H51/models\n",
            "copying build/lib.linux-x86_64-cpython-310/xformers/ H51/models/llama.py -> build/bdist.linux-x86_64/egg/xformers/ H51/models\n",
            "copying build/lib.linux-x86_64-cpython-310/xformers/ H51/models/opt.py -> build/bdist.linux-x86_64/egg/xformers/ H51/models\n",
            "copying build/lib.linux-x86_64-cpython-310/xformers/ H51/models/vit.py -> build/bdist.linux-x86_64/egg/xformers/ H51/models\n",
            "creating build/bdist.linux-x86_64/egg/xformers/ H51/modules\n",
            "copying build/lib.linux-x86_64-cpython-310/xformers/ H51/modules/__init__.py -> build/bdist.linux-x86_64/egg/xformers/ H51/modules\n",
            "copying build/lib.linux-x86_64-cpython-310/xformers/ H51/modules/block.py -> build/bdist.linux-x86_64/egg/xformers/ H51/modules\n",
            "copying build/lib.linux-x86_64-cpython-310/xformers/ H51/modules/embedding.py -> build/bdist.linux-x86_64/egg/xformers/ H51/modules\n",
            "copying build/lib.linux-x86_64-cpython-310/xformers/ H51/modules/mha.py -> build/bdist.linux-x86_64/egg/xformers/ H51/modules\n",
            "copying build/lib.linux-x86_64-cpython-310/xformers/ H51/modules/mlp.py -> build/bdist.linux-x86_64/egg/xformers/ H51/modules\n",
            "creating build/bdist.linux-x86_64/egg/xformers/ H51/ops\n",
            "copying build/lib.linux-x86_64-cpython-310/xformers/ H51/ops/__init__.py -> build/bdist.linux-x86_64/egg/xformers/ H51/ops\n",
            "copying build/lib.linux-x86_64-cpython-310/xformers/ H51/ops/activations.py -> build/bdist.linux-x86_64/egg/xformers/ H51/ops\n",
            "copying build/lib.linux-x86_64-cpython-310/xformers/ H51/ops/fused_dense.py -> build/bdist.linux-x86_64/egg/xformers/ H51/ops\n",
            "copying build/lib.linux-x86_64-cpython-310/xformers/ H51/ops/layer_norm.py -> build/bdist.linux-x86_64/egg/xformers/ H51/ops\n",
            "copying build/lib.linux-x86_64-cpython-310/xformers/ H51/ops/rms_norm.py -> build/bdist.linux-x86_64/egg/xformers/ H51/ops\n",
            "creating build/bdist.linux-x86_64/egg/xformers/ H51/ops/triton\n",
            "copying build/lib.linux-x86_64-cpython-310/xformers/ H51/ops/triton/__init__.py -> build/bdist.linux-x86_64/egg/xformers/ H51/ops/triton\n",
            "copying build/lib.linux-x86_64-cpython-310/xformers/ H51/ops/triton/cross_entropy.py -> build/bdist.linux-x86_64/egg/xformers/ H51/ops/triton\n",
            "copying build/lib.linux-x86_64-cpython-310/xformers/ H51/ops/triton/k_activations.py -> build/bdist.linux-x86_64/egg/xformers/ H51/ops/triton\n",
            "copying build/lib.linux-x86_64-cpython-310/xformers/ H51/ops/triton/layer_norm.py -> build/bdist.linux-x86_64/egg/xformers/ H51/ops/triton\n",
            "copying build/lib.linux-x86_64-cpython-310/xformers/ H51/ops/triton/linear.py -> build/bdist.linux-x86_64/egg/xformers/ H51/ops/triton\n",
            "copying build/lib.linux-x86_64-cpython-310/xformers/ H51/ops/triton/mlp.py -> build/bdist.linux-x86_64/egg/xformers/ H51/ops/triton\n",
            "copying build/lib.linux-x86_64-cpython-310/xformers/ H51/ops/triton/rotary.py -> build/bdist.linux-x86_64/egg/xformers/ H51/ops/triton\n",
            "creating build/bdist.linux-x86_64/egg/xformers/ H51/utils\n",
            "copying build/lib.linux-x86_64-cpython-310/xformers/ H51/utils/__init__.py -> build/bdist.linux-x86_64/egg/xformers/ H51/utils\n",
            "copying build/lib.linux-x86_64-cpython-310/xformers/ H51/utils/benchmark.py -> build/bdist.linux-x86_64/egg/xformers/ H51/utils\n",
            "copying build/lib.linux-x86_64-cpython-310/xformers/ H51/utils/distributed.py -> build/bdist.linux-x86_64/egg/xformers/ H51/utils\n",
            "copying build/lib.linux-x86_64-cpython-310/xformers/ H51/utils/generation.py -> build/bdist.linux-x86_64/egg/xformers/ H51/utils\n",
            "copying build/lib.linux-x86_64-cpython-310/xformers/ H51/utils/pretrained.py -> build/bdist.linux-x86_64/egg/xformers/ H51/utils\n",
            "creating build/bdist.linux-x86_64/egg/xformers/_flash_attn\n",
            "copying build/lib.linux-x86_64-cpython-310/xformers/_flash_attn/__init__.py -> build/bdist.linux-x86_64/egg/xformers/_flash_attn\n",
            "copying build/lib.linux-x86_64-cpython-310/xformers/_flash_attn/bert_padding.py -> build/bdist.linux-x86_64/egg/xformers/_flash_attn\n",
            "copying build/lib.linux-x86_64-cpython-310/xformers/_flash_attn/flash_attn_interface.py -> build/bdist.linux-x86_64/egg/xformers/_flash_attn\n",
            "copying build/lib.linux-x86_64-cpython-310/xformers/_flash_attn/flash_attn_triton.py -> build/bdist.linux-x86_64/egg/xformers/_flash_attn\n",
            "copying build/lib.linux-x86_64-cpython-310/xformers/_flash_attn/flash_attn_triton_og.py -> build/bdist.linux-x86_64/egg/xformers/_flash_attn\n",
            "copying build/lib.linux-x86_64-cpython-310/xformers/_flash_attn/flash_blocksparse_attention.py -> build/bdist.linux-x86_64/egg/xformers/_flash_attn\n",
            "copying build/lib.linux-x86_64-cpython-310/xformers/_flash_attn/flash_blocksparse_attn_interface.py -> build/bdist.linux-x86_64/egg/xformers/_flash_attn\n",
            "copying build/lib.linux-x86_64-cpython-310/xformers/_flash_attn/fused_softmax.py -> build/bdist.linux-x86_64/egg/xformers/_flash_attn\n",
            "creating build/bdist.linux-x86_64/egg/xformers/_flash_attn/layers\n",
            "copying build/lib.linux-x86_64-cpython-310/xformers/_flash_attn/layers/__init__.py -> build/bdist.linux-x86_64/egg/xformers/_flash_attn/layers\n",
            "copying build/lib.linux-x86_64-cpython-310/xformers/_flash_attn/layers/patch_embed.py -> build/bdist.linux-x86_64/egg/xformers/_flash_attn/layers\n",
            "copying build/lib.linux-x86_64-cpython-310/xformers/_flash_attn/layers/rotary.py -> build/bdist.linux-x86_64/egg/xformers/_flash_attn/layers\n",
            "creating build/bdist.linux-x86_64/egg/xformers/_flash_attn/losses\n",
            "copying build/lib.linux-x86_64-cpython-310/xformers/_flash_attn/losses/__init__.py -> build/bdist.linux-x86_64/egg/xformers/_flash_attn/losses\n",
            "copying build/lib.linux-x86_64-cpython-310/xformers/_flash_attn/losses/cross_entropy.py -> build/bdist.linux-x86_64/egg/xformers/_flash_attn/losses\n",
            "creating build/bdist.linux-x86_64/egg/xformers/_flash_attn/models\n",
            "copying build/lib.linux-x86_64-cpython-310/xformers/_flash_attn/models/__init__.py -> build/bdist.linux-x86_64/egg/xformers/_flash_attn/models\n",
            "copying build/lib.linux-x86_64-cpython-310/xformers/_flash_attn/models/baichuan.py -> build/bdist.linux-x86_64/egg/xformers/_flash_attn/models\n",
            "copying build/lib.linux-x86_64-cpython-310/xformers/_flash_attn/models/bert.py -> build/bdist.linux-x86_64/egg/xformers/_flash_attn/models\n",
            "copying build/lib.linux-x86_64-cpython-310/xformers/_flash_attn/models/bigcode.py -> build/bdist.linux-x86_64/egg/xformers/_flash_attn/models\n",
            "copying build/lib.linux-x86_64-cpython-310/xformers/_flash_attn/models/btlm.py -> build/bdist.linux-x86_64/egg/xformers/_flash_attn/models\n",
            "copying build/lib.linux-x86_64-cpython-310/xformers/_flash_attn/models/falcon.py -> build/bdist.linux-x86_64/egg/xformers/_flash_attn/models\n",
            "copying build/lib.linux-x86_64-cpython-310/xformers/_flash_attn/models/gpt.py -> build/bdist.linux-x86_64/egg/xformers/_flash_attn/models\n",
            "copying build/lib.linux-x86_64-cpython-310/xformers/_flash_attn/models/gpt_neox.py -> build/bdist.linux-x86_64/egg/xformers/_flash_attn/models\n",
            "copying build/lib.linux-x86_64-cpython-310/xformers/_flash_attn/models/gptj.py -> build/bdist.linux-x86_64/egg/xformers/_flash_attn/models\n",
            "copying build/lib.linux-x86_64-cpython-310/xformers/_flash_attn/models/llama.py -> build/bdist.linux-x86_64/egg/xformers/_flash_attn/models\n",
            "copying build/lib.linux-x86_64-cpython-310/xformers/_flash_attn/models/opt.py -> build/bdist.linux-x86_64/egg/xformers/_flash_attn/models\n",
            "copying build/lib.linux-x86_64-cpython-310/xformers/_flash_attn/models/vit.py -> build/bdist.linux-x86_64/egg/xformers/_flash_attn/models\n",
            "creating build/bdist.linux-x86_64/egg/xformers/_flash_attn/modules\n",
            "copying build/lib.linux-x86_64-cpython-310/xformers/_flash_attn/modules/__init__.py -> build/bdist.linux-x86_64/egg/xformers/_flash_attn/modules\n",
            "copying build/lib.linux-x86_64-cpython-310/xformers/_flash_attn/modules/block.py -> build/bdist.linux-x86_64/egg/xformers/_flash_attn/modules\n",
            "copying build/lib.linux-x86_64-cpython-310/xformers/_flash_attn/modules/embedding.py -> build/bdist.linux-x86_64/egg/xformers/_flash_attn/modules\n",
            "copying build/lib.linux-x86_64-cpython-310/xformers/_flash_attn/modules/mha.py -> build/bdist.linux-x86_64/egg/xformers/_flash_attn/modules\n",
            "copying build/lib.linux-x86_64-cpython-310/xformers/_flash_attn/modules/mlp.py -> build/bdist.linux-x86_64/egg/xformers/_flash_attn/modules\n",
            "creating build/bdist.linux-x86_64/egg/xformers/_flash_attn/ops\n",
            "copying build/lib.linux-x86_64-cpython-310/xformers/_flash_attn/ops/__init__.py -> build/bdist.linux-x86_64/egg/xformers/_flash_attn/ops\n",
            "copying build/lib.linux-x86_64-cpython-310/xformers/_flash_attn/ops/activations.py -> build/bdist.linux-x86_64/egg/xformers/_flash_attn/ops\n",
            "copying build/lib.linux-x86_64-cpython-310/xformers/_flash_attn/ops/fused_dense.py -> build/bdist.linux-x86_64/egg/xformers/_flash_attn/ops\n",
            "copying build/lib.linux-x86_64-cpython-310/xformers/_flash_attn/ops/layer_norm.py -> build/bdist.linux-x86_64/egg/xformers/_flash_attn/ops\n",
            "copying build/lib.linux-x86_64-cpython-310/xformers/_flash_attn/ops/rms_norm.py -> build/bdist.linux-x86_64/egg/xformers/_flash_attn/ops\n",
            "creating build/bdist.linux-x86_64/egg/xformers/_flash_attn/ops/triton\n",
            "copying build/lib.linux-x86_64-cpython-310/xformers/_flash_attn/ops/triton/__init__.py -> build/bdist.linux-x86_64/egg/xformers/_flash_attn/ops/triton\n",
            "copying build/lib.linux-x86_64-cpython-310/xformers/_flash_attn/ops/triton/cross_entropy.py -> build/bdist.linux-x86_64/egg/xformers/_flash_attn/ops/triton\n",
            "copying build/lib.linux-x86_64-cpython-310/xformers/_flash_attn/ops/triton/k_activations.py -> build/bdist.linux-x86_64/egg/xformers/_flash_attn/ops/triton\n",
            "copying build/lib.linux-x86_64-cpython-310/xformers/_flash_attn/ops/triton/layer_norm.py -> build/bdist.linux-x86_64/egg/xformers/_flash_attn/ops/triton\n",
            "copying build/lib.linux-x86_64-cpython-310/xformers/_flash_attn/ops/triton/linear.py -> build/bdist.linux-x86_64/egg/xformers/_flash_attn/ops/triton\n",
            "copying build/lib.linux-x86_64-cpython-310/xformers/_flash_attn/ops/triton/mlp.py -> build/bdist.linux-x86_64/egg/xformers/_flash_attn/ops/triton\n",
            "copying build/lib.linux-x86_64-cpython-310/xformers/_flash_attn/ops/triton/rotary.py -> build/bdist.linux-x86_64/egg/xformers/_flash_attn/ops/triton\n",
            "creating build/bdist.linux-x86_64/egg/xformers/_flash_attn/utils\n",
            "copying build/lib.linux-x86_64-cpython-310/xformers/_flash_attn/utils/__init__.py -> build/bdist.linux-x86_64/egg/xformers/_flash_attn/utils\n",
            "copying build/lib.linux-x86_64-cpython-310/xformers/_flash_attn/utils/benchmark.py -> build/bdist.linux-x86_64/egg/xformers/_flash_attn/utils\n",
            "copying build/lib.linux-x86_64-cpython-310/xformers/_flash_attn/utils/distributed.py -> build/bdist.linux-x86_64/egg/xformers/_flash_attn/utils\n",
            "copying build/lib.linux-x86_64-cpython-310/xformers/_flash_attn/utils/generation.py -> build/bdist.linux-x86_64/egg/xformers/_flash_attn/utils\n",
            "copying build/lib.linux-x86_64-cpython-310/xformers/_flash_attn/utils/pretrained.py -> build/bdist.linux-x86_64/egg/xformers/_flash_attn/utils\n",
            "byte-compiling build/bdist.linux-x86_64/egg/xformers/attn_bias_utils.py to attn_bias_utils.cpython-310.pyc\n",
            "byte-compiling build/bdist.linux-x86_64/egg/xformers/_deprecation_warning.py to _deprecation_warning.cpython-310.pyc\n",
            "byte-compiling build/bdist.linux-x86_64/egg/xformers/_cpp_lib.py to _cpp_lib.cpython-310.pyc\n",
            "byte-compiling build/bdist.linux-x86_64/egg/xformers/__init__.py to __init__.cpython-310.pyc\n",
            "byte-compiling build/bdist.linux-x86_64/egg/xformers/checkpoint.py to checkpoint.cpython-310.pyc\n",
            "byte-compiling build/bdist.linux-x86_64/egg/xformers/info.py to info.cpython-310.pyc\n",
            "byte-compiling build/bdist.linux-x86_64/egg/xformers/utils.py to utils.cpython-310.pyc\n",
            "byte-compiling build/bdist.linux-x86_64/egg/xformers/test.py to test.cpython-310.pyc\n",
            "byte-compiling build/bdist.linux-x86_64/egg/xformers/benchmarks/benchmark_blocksparse_transformers.py to benchmark_blocksparse_transformers.cpython-310.pyc\n",
            "byte-compiling build/bdist.linux-x86_64/egg/xformers/benchmarks/benchmark_mem_eff_attention.py to benchmark_mem_eff_attention.cpython-310.pyc\n",
            "byte-compiling build/bdist.linux-x86_64/egg/xformers/benchmarks/benchmark_indexing.py to benchmark_indexing.cpython-310.pyc\n",
            "byte-compiling build/bdist.linux-x86_64/egg/xformers/benchmarks/benchmark_causal_blocksparse.py to benchmark_causal_blocksparse.cpython-310.pyc\n",
            "byte-compiling build/bdist.linux-x86_64/egg/xformers/benchmarks/benchmark_sddmm.py to benchmark_sddmm.cpython-310.pyc\n",
            "byte-compiling build/bdist.linux-x86_64/egg/xformers/benchmarks/benchmark_merge_attentions.py to benchmark_merge_attentions.cpython-310.pyc\n",
            "byte-compiling build/bdist.linux-x86_64/egg/xformers/benchmarks/benchmark_tiled_matmul.py to benchmark_tiled_matmul.cpython-310.pyc\n",
            "byte-compiling build/bdist.linux-x86_64/egg/xformers/benchmarks/benchmark_revnet.py to benchmark_revnet.cpython-310.pyc\n",
            "byte-compiling build/bdist.linux-x86_64/egg/xformers/benchmarks/__init__.py to __init__.cpython-310.pyc\n",
            "byte-compiling build/bdist.linux-x86_64/egg/xformers/benchmarks/benchmark_core.py to benchmark_core.cpython-310.pyc\n",
            "byte-compiling build/bdist.linux-x86_64/egg/xformers/benchmarks/benchmark_attn_decoding.py to benchmark_attn_decoding.cpython-310.pyc\n",
            "byte-compiling build/bdist.linux-x86_64/egg/xformers/benchmarks/benchmark_nystrom_utils.py to benchmark_nystrom_utils.cpython-310.pyc\n",
            "byte-compiling build/bdist.linux-x86_64/egg/xformers/benchmarks/benchmark_sequence_parallel_fused.py to benchmark_sequence_parallel_fused.cpython-310.pyc\n",
            "byte-compiling build/bdist.linux-x86_64/egg/xformers/benchmarks/benchmark_multi_head_dispatch.py to benchmark_multi_head_dispatch.cpython-310.pyc\n",
            "byte-compiling build/bdist.linux-x86_64/egg/xformers/benchmarks/benchmark_swiglu.py to benchmark_swiglu.cpython-310.pyc\n",
            "byte-compiling build/bdist.linux-x86_64/egg/xformers/benchmarks/benchmark_sp24.py to benchmark_sp24.cpython-310.pyc\n",
            "byte-compiling build/bdist.linux-x86_64/egg/xformers/benchmarks/utils.py to utils.cpython-310.pyc\n",
            "byte-compiling build/bdist.linux-x86_64/egg/xformers/benchmarks/benchmark_triton_blocksparse.py to benchmark_triton_blocksparse.cpython-310.pyc\n",
            "byte-compiling build/bdist.linux-x86_64/egg/xformers/benchmarks/LRA/run_tasks.py to run_tasks.cpython-310.pyc\n",
            "byte-compiling build/bdist.linux-x86_64/egg/xformers/benchmarks/LRA/batch_fetch_results.py to batch_fetch_results.cpython-310.pyc\n",
            "byte-compiling build/bdist.linux-x86_64/egg/xformers/benchmarks/LRA/__init__.py to __init__.cpython-310.pyc\n",
            "byte-compiling build/bdist.linux-x86_64/egg/xformers/benchmarks/LRA/run_grid_search.py to run_grid_search.cpython-310.pyc\n",
            "byte-compiling build/bdist.linux-x86_64/egg/xformers/benchmarks/LRA/run_with_submitit.py to run_with_submitit.cpython-310.pyc\n",
            "byte-compiling build/bdist.linux-x86_64/egg/xformers/benchmarks/LRA/batch_submit.py to batch_submit.cpython-310.pyc\n",
            "byte-compiling build/bdist.linux-x86_64/egg/xformers/benchmarks/LRA/code/dataset.py to dataset.cpython-310.pyc\n",
            "byte-compiling build/bdist.linux-x86_64/egg/xformers/benchmarks/LRA/code/__init__.py to __init__.cpython-310.pyc\n",
            "byte-compiling build/bdist.linux-x86_64/egg/xformers/benchmarks/LRA/code/model_wrapper.py to model_wrapper.cpython-310.pyc\n",
            "byte-compiling build/bdist.linux-x86_64/egg/xformers/components/__init__.py to __init__.cpython-310.pyc\n",
            "byte-compiling build/bdist.linux-x86_64/egg/xformers/components/reversible.py to reversible.cpython-310.pyc\n",
            "byte-compiling build/bdist.linux-x86_64/egg/xformers/components/patch_embedding.py to patch_embedding.cpython-310.pyc\n",
            "byte-compiling build/bdist.linux-x86_64/egg/xformers/components/activations.py to activations.cpython-310.pyc\n",
            "byte-compiling build/bdist.linux-x86_64/egg/xformers/components/simplicial_embedding.py to simplicial_embedding.cpython-310.pyc\n",
            "byte-compiling build/bdist.linux-x86_64/egg/xformers/components/multi_head_dispatch.py to multi_head_dispatch.cpython-310.pyc\n",
            "byte-compiling build/bdist.linux-x86_64/egg/xformers/components/input_projection.py to input_projection.cpython-310.pyc\n",
            "byte-compiling build/bdist.linux-x86_64/egg/xformers/components/residual.py to residual.cpython-310.pyc\n",
            "byte-compiling build/bdist.linux-x86_64/egg/xformers/components/attention/core.py to core.cpython-310.pyc\n",
            "byte-compiling build/bdist.linux-x86_64/egg/xformers/components/attention/pooling.py to pooling.cpython-310.pyc\n",
            "byte-compiling build/bdist.linux-x86_64/egg/xformers/components/attention/blocksparse.py to blocksparse.cpython-310.pyc\n",
            "byte-compiling build/bdist.linux-x86_64/egg/xformers/components/attention/linformer.py to linformer.cpython-310.pyc\n",
            "byte-compiling build/bdist.linux-x86_64/egg/xformers/components/attention/utils.py to utils.cpython-310.pyc\n",
            "byte-compiling build/bdist.linux-x86_64/egg/xformers/components/attention/global_tokens.py to global_tokens.cpython-310.pyc\n",
            "byte-compiling build/bdist.linux-x86_64/egg/xformers/components/attention/visual.py to visual.cpython-310.pyc\n",
            "byte-compiling build/bdist.linux-x86_64/egg/xformers/components/attention/compositional.py to compositional.cpython-310.pyc\n",
            "byte-compiling build/bdist.linux-x86_64/egg/xformers/components/attention/attention_mask.py to attention_mask.cpython-310.pyc\n",
            "byte-compiling build/bdist.linux-x86_64/egg/xformers/components/attention/__init__.py to __init__.cpython-310.pyc\n",
            "byte-compiling build/bdist.linux-x86_64/egg/xformers/components/attention/attention_patterns.py to attention_patterns.cpython-310.pyc\n",
            "byte-compiling build/bdist.linux-x86_64/egg/xformers/components/attention/_sputnik_sparse.py to _sputnik_sparse.cpython-310.pyc\n",
            "byte-compiling build/bdist.linux-x86_64/egg/xformers/components/attention/lambda_layer.py to lambda_layer.cpython-310.pyc\n",
            "byte-compiling build/bdist.linux-x86_64/egg/xformers/components/attention/nystrom.py to nystrom.cpython-310.pyc\n",
            "byte-compiling build/bdist.linux-x86_64/egg/xformers/components/attention/base.py to base.cpython-310.pyc\n",
            "byte-compiling build/bdist.linux-x86_64/egg/xformers/components/attention/ortho.py to ortho.cpython-310.pyc\n",
            "byte-compiling build/bdist.linux-x86_64/egg/xformers/components/attention/local.py to local.cpython-310.pyc\n",
            "byte-compiling build/bdist.linux-x86_64/egg/xformers/components/attention/sparsity_config.py to sparsity_config.cpython-310.pyc\n",
            "byte-compiling build/bdist.linux-x86_64/egg/xformers/components/attention/random.py to random.cpython-310.pyc\n",
            "byte-compiling build/bdist.linux-x86_64/egg/xformers/components/attention/fourier_mix.py to fourier_mix.cpython-310.pyc\n",
            "byte-compiling build/bdist.linux-x86_64/egg/xformers/components/attention/favor.py to favor.cpython-310.pyc\n",
            "byte-compiling build/bdist.linux-x86_64/egg/xformers/components/attention/scaled_dot_product.py to scaled_dot_product.cpython-310.pyc\n",
            "byte-compiling build/bdist.linux-x86_64/egg/xformers/components/attention/feature_maps/__init__.py to __init__.cpython-310.pyc\n",
            "byte-compiling build/bdist.linux-x86_64/egg/xformers/components/attention/feature_maps/softmax.py to softmax.cpython-310.pyc\n",
            "byte-compiling build/bdist.linux-x86_64/egg/xformers/components/attention/feature_maps/base.py to base.cpython-310.pyc\n",
            "byte-compiling build/bdist.linux-x86_64/egg/xformers/components/feedforward/base.py to base.cpython-310.pyc\n",
            "byte-compiling build/bdist.linux-x86_64/egg/xformers/components/feedforward/conv_mlp.py to conv_mlp.cpython-310.pyc\n",
            "byte-compiling build/bdist.linux-x86_64/egg/xformers/components/feedforward/mlp.py to mlp.cpython-310.pyc\n",
            "byte-compiling build/bdist.linux-x86_64/egg/xformers/components/feedforward/__init__.py to __init__.cpython-310.pyc\n",
            "byte-compiling build/bdist.linux-x86_64/egg/xformers/components/feedforward/mixture_of_experts.py to mixture_of_experts.cpython-310.pyc\n",
            "byte-compiling build/bdist.linux-x86_64/egg/xformers/components/positional_embedding/param.py to param.cpython-310.pyc\n",
            "byte-compiling build/bdist.linux-x86_64/egg/xformers/components/positional_embedding/rotary.py to rotary.cpython-310.pyc\n",
            "byte-compiling build/bdist.linux-x86_64/egg/xformers/components/positional_embedding/vocab.py to vocab.cpython-310.pyc\n",
            "byte-compiling build/bdist.linux-x86_64/egg/xformers/components/positional_embedding/base.py to base.cpython-310.pyc\n",
            "byte-compiling build/bdist.linux-x86_64/egg/xformers/components/positional_embedding/sine.py to sine.cpython-310.pyc\n",
            "byte-compiling build/bdist.linux-x86_64/egg/xformers/components/positional_embedding/__init__.py to __init__.cpython-310.pyc\n",
            "byte-compiling build/bdist.linux-x86_64/egg/xformers/factory/model_factory.py to model_factory.cpython-310.pyc\n",
            "byte-compiling build/bdist.linux-x86_64/egg/xformers/factory/block_factory.py to block_factory.cpython-310.pyc\n",
            "byte-compiling build/bdist.linux-x86_64/egg/xformers/factory/block_configs.py to block_configs.cpython-310.pyc\n",
            "byte-compiling build/bdist.linux-x86_64/egg/xformers/factory/hydra_helper.py to hydra_helper.cpython-310.pyc\n",
            "byte-compiling build/bdist.linux-x86_64/egg/xformers/factory/weight_init.py to weight_init.cpython-310.pyc\n",
            "byte-compiling build/bdist.linux-x86_64/egg/xformers/factory/__init__.py to __init__.cpython-310.pyc\n",
            "byte-compiling build/bdist.linux-x86_64/egg/xformers/helpers/hierarchical_configs.py to hierarchical_configs.cpython-310.pyc\n",
            "byte-compiling build/bdist.linux-x86_64/egg/xformers/helpers/timm_sparse_attention.py to timm_sparse_attention.cpython-310.pyc\n",
            "byte-compiling build/bdist.linux-x86_64/egg/xformers/helpers/test_utils.py to test_utils.cpython-310.pyc\n",
            "byte-compiling build/bdist.linux-x86_64/egg/xformers/helpers/__init__.py to __init__.cpython-310.pyc\n",
            "byte-compiling build/bdist.linux-x86_64/egg/xformers/ops/tiled_matmul.py to tiled_matmul.cpython-310.pyc\n",
            "byte-compiling build/bdist.linux-x86_64/egg/xformers/ops/common.py to common.cpython-310.pyc\n",
            "byte-compiling build/bdist.linux-x86_64/egg/xformers/ops/__init__.py to __init__.cpython-310.pyc\n",
            "byte-compiling build/bdist.linux-x86_64/egg/xformers/ops/rope_padded.py to rope_padded.cpython-310.pyc\n",
            "byte-compiling build/bdist.linux-x86_64/egg/xformers/ops/seqpar.py to seqpar.cpython-310.pyc\n",
            "byte-compiling build/bdist.linux-x86_64/egg/xformers/ops/rmsnorm.py to rmsnorm.cpython-310.pyc\n",
            "byte-compiling build/bdist.linux-x86_64/egg/xformers/ops/sequence_parallel_fused_ops.py to sequence_parallel_fused_ops.cpython-310.pyc\n",
            "byte-compiling build/bdist.linux-x86_64/egg/xformers/ops/swiglu_op.py to swiglu_op.cpython-310.pyc\n",
            "byte-compiling build/bdist.linux-x86_64/egg/xformers/ops/sp24.py to sp24.cpython-310.pyc\n",
            "byte-compiling build/bdist.linux-x86_64/egg/xformers/ops/unbind.py to unbind.cpython-310.pyc\n",
            "byte-compiling build/bdist.linux-x86_64/egg/xformers/ops/indexing.py to indexing.cpython-310.pyc\n",
            "byte-compiling build/bdist.linux-x86_64/egg/xformers/ops/differentiable_collectives.py to differentiable_collectives.cpython-310.pyc\n",
            "byte-compiling build/bdist.linux-x86_64/egg/xformers/ops/modpar_layers.py to modpar_layers.cpython-310.pyc\n",
            "byte-compiling build/bdist.linux-x86_64/egg/xformers/ops/ipc.py to ipc.cpython-310.pyc\n",
            "byte-compiling build/bdist.linux-x86_64/egg/xformers/ops/_triton/tiled_matmul_kernels.py to tiled_matmul_kernels.cpython-310.pyc\n",
            "byte-compiling build/bdist.linux-x86_64/egg/xformers/ops/_triton/rmsnorm_kernels.py to rmsnorm_kernels.cpython-310.pyc\n",
            "byte-compiling build/bdist.linux-x86_64/egg/xformers/ops/_triton/__init__.py to __init__.cpython-310.pyc\n",
            "byte-compiling build/bdist.linux-x86_64/egg/xformers/ops/_triton/k_scaled_index_add.py to k_scaled_index_add.cpython-310.pyc\n",
            "byte-compiling build/bdist.linux-x86_64/egg/xformers/ops/_triton/k_index_select_cat.py to k_index_select_cat.cpython-310.pyc\n",
            "byte-compiling build/bdist.linux-x86_64/egg/xformers/ops/_triton/rope_padded_kernels.py to rope_padded_kernels.cpython-310.pyc\n",
            "byte-compiling build/bdist.linux-x86_64/egg/xformers/ops/_triton/sequence_parallel_fused_kernels.py to sequence_parallel_fused_kernels.cpython-310.pyc\n",
            "byte-compiling build/bdist.linux-x86_64/egg/xformers/ops/fmha/ck_decoder.py to ck_decoder.cpython-310.pyc\n",
            "byte-compiling build/bdist.linux-x86_64/egg/xformers/ops/fmha/triton_splitk.py to triton_splitk.cpython-310.pyc\n",
            "byte-compiling build/bdist.linux-x86_64/egg/xformers/ops/fmha/ck.py to ck.cpython-310.pyc\n",
            "byte-compiling build/bdist.linux-x86_64/egg/xformers/ops/fmha/torch_attention_compat.py to torch_attention_compat.cpython-310.pyc\n",
            "byte-compiling build/bdist.linux-x86_64/egg/xformers/ops/fmha/__init__.py to __init__.cpython-310.pyc\n",
            "byte-compiling build/bdist.linux-x86_64/egg/xformers/ops/fmha/decoder.py to decoder.cpython-310.pyc\n",
            "byte-compiling build/bdist.linux-x86_64/egg/xformers/ops/fmha/common.py to common.cpython-310.pyc\n",
            "byte-compiling build/bdist.linux-x86_64/egg/xformers/ops/fmha/dispatch.py to dispatch.cpython-310.pyc\n",
            "byte-compiling build/bdist.linux-x86_64/egg/xformers/ops/fmha/attn_bias.py to attn_bias.cpython-310.pyc\n",
            "byte-compiling build/bdist.linux-x86_64/egg/xformers/ops/fmha/cutlass.py to cutlass.cpython-310.pyc\n",
            "byte-compiling build/bdist.linux-x86_64/egg/xformers/ops/fmha/ck_splitk.py to ck_splitk.cpython-310.pyc\n",
            "byte-compiling build/bdist.linux-x86_64/egg/xformers/ops/fmha/flash.py to flash.cpython-310.pyc\n",
            "byte-compiling build/bdist.linux-x86_64/egg/xformers/ops/fmha/small_k.py to small_k.cpython-310.pyc\n",
            "byte-compiling build/bdist.linux-x86_64/egg/xformers/profiler/__init__.py to __init__.cpython-310.pyc\n",
            "byte-compiling build/bdist.linux-x86_64/egg/xformers/profiler/slow_ops_profiler.py to slow_ops_profiler.cpython-310.pyc\n",
            "byte-compiling build/bdist.linux-x86_64/egg/xformers/profiler/profiler.py to profiler.cpython-310.pyc\n",
            "byte-compiling build/bdist.linux-x86_64/egg/xformers/profiler/find_slowest.py to find_slowest.cpython-310.pyc\n",
            "byte-compiling build/bdist.linux-x86_64/egg/xformers/profiler/profile_analyzer.py to profile_analyzer.cpython-310.pyc\n",
            "byte-compiling build/bdist.linux-x86_64/egg/xformers/profiler/profiler_dcgm.py to profiler_dcgm.cpython-310.pyc\n",
            "byte-compiling build/bdist.linux-x86_64/egg/xformers/profiler/device_limits.py to device_limits.cpython-310.pyc\n",
            "byte-compiling build/bdist.linux-x86_64/egg/xformers/profiler/profiler_dcgm_impl.py to profiler_dcgm_impl.cpython-310.pyc\n",
            "byte-compiling build/bdist.linux-x86_64/egg/xformers/profiler/api.py to api.cpython-310.pyc\n",
            "byte-compiling build/bdist.linux-x86_64/egg/xformers/sparse/_csr_ops.py to _csr_ops.cpython-310.pyc\n",
            "byte-compiling build/bdist.linux-x86_64/egg/xformers/sparse/__init__.py to __init__.cpython-310.pyc\n",
            "byte-compiling build/bdist.linux-x86_64/egg/xformers/sparse/blocksparse_tensor.py to blocksparse_tensor.cpython-310.pyc\n",
            "byte-compiling build/bdist.linux-x86_64/egg/xformers/sparse/csr_tensor.py to csr_tensor.cpython-310.pyc\n",
            "byte-compiling build/bdist.linux-x86_64/egg/xformers/sparse/utils.py to utils.cpython-310.pyc\n",
            "byte-compiling build/bdist.linux-x86_64/egg/xformers/triton/vararg_kernel.py to vararg_kernel.cpython-310.pyc\n",
            "byte-compiling build/bdist.linux-x86_64/egg/xformers/triton/__init__.py to __init__.cpython-310.pyc\n",
            "byte-compiling build/bdist.linux-x86_64/egg/xformers/version.py to version.cpython-310.pyc\n",
            "byte-compiling build/bdist.linux-x86_64/egg/xformers/ H51/__init__.py to __init__.cpython-310.pyc\n",
            "byte-compiling build/bdist.linux-x86_64/egg/xformers/ H51/bert_padding.py to bert_padding.cpython-310.pyc\n",
            "byte-compiling build/bdist.linux-x86_64/egg/xformers/ H51/flash_attn_interface.py to flash_attn_interface.cpython-310.pyc\n",
            "byte-compiling build/bdist.linux-x86_64/egg/xformers/ H51/flash_attn_triton.py to flash_attn_triton.cpython-310.pyc\n",
            "byte-compiling build/bdist.linux-x86_64/egg/xformers/ H51/flash_attn_triton_og.py to flash_attn_triton_og.cpython-310.pyc\n",
            "byte-compiling build/bdist.linux-x86_64/egg/xformers/ H51/flash_blocksparse_attention.py to flash_blocksparse_attention.cpython-310.pyc\n",
            "byte-compiling build/bdist.linux-x86_64/egg/xformers/ H51/flash_blocksparse_attn_interface.py to flash_blocksparse_attn_interface.cpython-310.pyc\n",
            "byte-compiling build/bdist.linux-x86_64/egg/xformers/ H51/fused_softmax.py to fused_softmax.cpython-310.pyc\n",
            "byte-compiling build/bdist.linux-x86_64/egg/xformers/ H51/layers/__init__.py to __init__.cpython-310.pyc\n",
            "byte-compiling build/bdist.linux-x86_64/egg/xformers/ H51/layers/patch_embed.py to patch_embed.cpython-310.pyc\n",
            "byte-compiling build/bdist.linux-x86_64/egg/xformers/ H51/layers/rotary.py to rotary.cpython-310.pyc\n",
            "byte-compiling build/bdist.linux-x86_64/egg/xformers/ H51/losses/__init__.py to __init__.cpython-310.pyc\n",
            "byte-compiling build/bdist.linux-x86_64/egg/xformers/ H51/losses/cross_entropy.py to cross_entropy.cpython-310.pyc\n",
            "byte-compiling build/bdist.linux-x86_64/egg/xformers/ H51/models/__init__.py to __init__.cpython-310.pyc\n",
            "byte-compiling build/bdist.linux-x86_64/egg/xformers/ H51/models/baichuan.py to baichuan.cpython-310.pyc\n",
            "byte-compiling build/bdist.linux-x86_64/egg/xformers/ H51/models/bert.py to bert.cpython-310.pyc\n",
            "byte-compiling build/bdist.linux-x86_64/egg/xformers/ H51/models/bigcode.py to bigcode.cpython-310.pyc\n",
            "byte-compiling build/bdist.linux-x86_64/egg/xformers/ H51/models/btlm.py to btlm.cpython-310.pyc\n",
            "byte-compiling build/bdist.linux-x86_64/egg/xformers/ H51/models/falcon.py to falcon.cpython-310.pyc\n",
            "byte-compiling build/bdist.linux-x86_64/egg/xformers/ H51/models/gpt.py to gpt.cpython-310.pyc\n",
            "byte-compiling build/bdist.linux-x86_64/egg/xformers/ H51/models/gpt_neox.py to gpt_neox.cpython-310.pyc\n",
            "byte-compiling build/bdist.linux-x86_64/egg/xformers/ H51/models/gptj.py to gptj.cpython-310.pyc\n",
            "byte-compiling build/bdist.linux-x86_64/egg/xformers/ H51/models/llama.py to llama.cpython-310.pyc\n",
            "byte-compiling build/bdist.linux-x86_64/egg/xformers/ H51/models/opt.py to opt.cpython-310.pyc\n",
            "byte-compiling build/bdist.linux-x86_64/egg/xformers/ H51/models/vit.py to vit.cpython-310.pyc\n",
            "byte-compiling build/bdist.linux-x86_64/egg/xformers/ H51/modules/__init__.py to __init__.cpython-310.pyc\n",
            "byte-compiling build/bdist.linux-x86_64/egg/xformers/ H51/modules/block.py to block.cpython-310.pyc\n",
            "byte-compiling build/bdist.linux-x86_64/egg/xformers/ H51/modules/embedding.py to embedding.cpython-310.pyc\n",
            "byte-compiling build/bdist.linux-x86_64/egg/xformers/ H51/modules/mha.py to mha.cpython-310.pyc\n",
            "byte-compiling build/bdist.linux-x86_64/egg/xformers/ H51/modules/mlp.py to mlp.cpython-310.pyc\n",
            "byte-compiling build/bdist.linux-x86_64/egg/xformers/ H51/ops/__init__.py to __init__.cpython-310.pyc\n",
            "byte-compiling build/bdist.linux-x86_64/egg/xformers/ H51/ops/activations.py to activations.cpython-310.pyc\n",
            "byte-compiling build/bdist.linux-x86_64/egg/xformers/ H51/ops/fused_dense.py to fused_dense.cpython-310.pyc\n",
            "byte-compiling build/bdist.linux-x86_64/egg/xformers/ H51/ops/layer_norm.py to layer_norm.cpython-310.pyc\n",
            "byte-compiling build/bdist.linux-x86_64/egg/xformers/ H51/ops/rms_norm.py to rms_norm.cpython-310.pyc\n",
            "byte-compiling build/bdist.linux-x86_64/egg/xformers/ H51/ops/triton/__init__.py to __init__.cpython-310.pyc\n",
            "byte-compiling build/bdist.linux-x86_64/egg/xformers/ H51/ops/triton/cross_entropy.py to cross_entropy.cpython-310.pyc\n",
            "byte-compiling build/bdist.linux-x86_64/egg/xformers/ H51/ops/triton/k_activations.py to k_activations.cpython-310.pyc\n",
            "byte-compiling build/bdist.linux-x86_64/egg/xformers/ H51/ops/triton/layer_norm.py to layer_norm.cpython-310.pyc\n",
            "byte-compiling build/bdist.linux-x86_64/egg/xformers/ H51/ops/triton/linear.py to linear.cpython-310.pyc\n",
            "byte-compiling build/bdist.linux-x86_64/egg/xformers/ H51/ops/triton/mlp.py to mlp.cpython-310.pyc\n",
            "byte-compiling build/bdist.linux-x86_64/egg/xformers/ H51/ops/triton/rotary.py to rotary.cpython-310.pyc\n",
            "byte-compiling build/bdist.linux-x86_64/egg/xformers/ H51/utils/__init__.py to __init__.cpython-310.pyc\n",
            "byte-compiling build/bdist.linux-x86_64/egg/xformers/ H51/utils/benchmark.py to benchmark.cpython-310.pyc\n",
            "byte-compiling build/bdist.linux-x86_64/egg/xformers/ H51/utils/distributed.py to distributed.cpython-310.pyc\n",
            "byte-compiling build/bdist.linux-x86_64/egg/xformers/ H51/utils/generation.py to generation.cpython-310.pyc\n",
            "byte-compiling build/bdist.linux-x86_64/egg/xformers/ H51/utils/pretrained.py to pretrained.cpython-310.pyc\n",
            "byte-compiling build/bdist.linux-x86_64/egg/xformers/_flash_attn/__init__.py to __init__.cpython-310.pyc\n",
            "byte-compiling build/bdist.linux-x86_64/egg/xformers/_flash_attn/bert_padding.py to bert_padding.cpython-310.pyc\n",
            "byte-compiling build/bdist.linux-x86_64/egg/xformers/_flash_attn/flash_attn_interface.py to flash_attn_interface.cpython-310.pyc\n",
            "byte-compiling build/bdist.linux-x86_64/egg/xformers/_flash_attn/flash_attn_triton.py to flash_attn_triton.cpython-310.pyc\n",
            "byte-compiling build/bdist.linux-x86_64/egg/xformers/_flash_attn/flash_attn_triton_og.py to flash_attn_triton_og.cpython-310.pyc\n",
            "byte-compiling build/bdist.linux-x86_64/egg/xformers/_flash_attn/flash_blocksparse_attention.py to flash_blocksparse_attention.cpython-310.pyc\n",
            "byte-compiling build/bdist.linux-x86_64/egg/xformers/_flash_attn/flash_blocksparse_attn_interface.py to flash_blocksparse_attn_interface.cpython-310.pyc\n",
            "byte-compiling build/bdist.linux-x86_64/egg/xformers/_flash_attn/fused_softmax.py to fused_softmax.cpython-310.pyc\n",
            "byte-compiling build/bdist.linux-x86_64/egg/xformers/_flash_attn/layers/__init__.py to __init__.cpython-310.pyc\n",
            "byte-compiling build/bdist.linux-x86_64/egg/xformers/_flash_attn/layers/patch_embed.py to patch_embed.cpython-310.pyc\n",
            "byte-compiling build/bdist.linux-x86_64/egg/xformers/_flash_attn/layers/rotary.py to rotary.cpython-310.pyc\n",
            "byte-compiling build/bdist.linux-x86_64/egg/xformers/_flash_attn/losses/__init__.py to __init__.cpython-310.pyc\n",
            "byte-compiling build/bdist.linux-x86_64/egg/xformers/_flash_attn/losses/cross_entropy.py to cross_entropy.cpython-310.pyc\n",
            "byte-compiling build/bdist.linux-x86_64/egg/xformers/_flash_attn/models/__init__.py to __init__.cpython-310.pyc\n",
            "byte-compiling build/bdist.linux-x86_64/egg/xformers/_flash_attn/models/baichuan.py to baichuan.cpython-310.pyc\n",
            "byte-compiling build/bdist.linux-x86_64/egg/xformers/_flash_attn/models/bert.py to bert.cpython-310.pyc\n",
            "byte-compiling build/bdist.linux-x86_64/egg/xformers/_flash_attn/models/bigcode.py to bigcode.cpython-310.pyc\n",
            "byte-compiling build/bdist.linux-x86_64/egg/xformers/_flash_attn/models/btlm.py to btlm.cpython-310.pyc\n",
            "byte-compiling build/bdist.linux-x86_64/egg/xformers/_flash_attn/models/falcon.py to falcon.cpython-310.pyc\n",
            "byte-compiling build/bdist.linux-x86_64/egg/xformers/_flash_attn/models/gpt.py to gpt.cpython-310.pyc\n",
            "byte-compiling build/bdist.linux-x86_64/egg/xformers/_flash_attn/models/gpt_neox.py to gpt_neox.cpython-310.pyc\n",
            "byte-compiling build/bdist.linux-x86_64/egg/xformers/_flash_attn/models/gptj.py to gptj.cpython-310.pyc\n",
            "byte-compiling build/bdist.linux-x86_64/egg/xformers/_flash_attn/models/llama.py to llama.cpython-310.pyc\n",
            "byte-compiling build/bdist.linux-x86_64/egg/xformers/_flash_attn/models/opt.py to opt.cpython-310.pyc\n",
            "byte-compiling build/bdist.linux-x86_64/egg/xformers/_flash_attn/models/vit.py to vit.cpython-310.pyc\n",
            "byte-compiling build/bdist.linux-x86_64/egg/xformers/_flash_attn/modules/__init__.py to __init__.cpython-310.pyc\n",
            "byte-compiling build/bdist.linux-x86_64/egg/xformers/_flash_attn/modules/block.py to block.cpython-310.pyc\n",
            "byte-compiling build/bdist.linux-x86_64/egg/xformers/_flash_attn/modules/embedding.py to embedding.cpython-310.pyc\n",
            "byte-compiling build/bdist.linux-x86_64/egg/xformers/_flash_attn/modules/mha.py to mha.cpython-310.pyc\n",
            "byte-compiling build/bdist.linux-x86_64/egg/xformers/_flash_attn/modules/mlp.py to mlp.cpython-310.pyc\n",
            "byte-compiling build/bdist.linux-x86_64/egg/xformers/_flash_attn/ops/__init__.py to __init__.cpython-310.pyc\n",
            "byte-compiling build/bdist.linux-x86_64/egg/xformers/_flash_attn/ops/activations.py to activations.cpython-310.pyc\n",
            "byte-compiling build/bdist.linux-x86_64/egg/xformers/_flash_attn/ops/fused_dense.py to fused_dense.cpython-310.pyc\n",
            "byte-compiling build/bdist.linux-x86_64/egg/xformers/_flash_attn/ops/layer_norm.py to layer_norm.cpython-310.pyc\n",
            "byte-compiling build/bdist.linux-x86_64/egg/xformers/_flash_attn/ops/rms_norm.py to rms_norm.cpython-310.pyc\n",
            "byte-compiling build/bdist.linux-x86_64/egg/xformers/_flash_attn/ops/triton/__init__.py to __init__.cpython-310.pyc\n",
            "byte-compiling build/bdist.linux-x86_64/egg/xformers/_flash_attn/ops/triton/cross_entropy.py to cross_entropy.cpython-310.pyc\n",
            "byte-compiling build/bdist.linux-x86_64/egg/xformers/_flash_attn/ops/triton/k_activations.py to k_activations.cpython-310.pyc\n",
            "byte-compiling build/bdist.linux-x86_64/egg/xformers/_flash_attn/ops/triton/layer_norm.py to layer_norm.cpython-310.pyc\n",
            "byte-compiling build/bdist.linux-x86_64/egg/xformers/_flash_attn/ops/triton/linear.py to linear.cpython-310.pyc\n",
            "byte-compiling build/bdist.linux-x86_64/egg/xformers/_flash_attn/ops/triton/mlp.py to mlp.cpython-310.pyc\n",
            "byte-compiling build/bdist.linux-x86_64/egg/xformers/_flash_attn/ops/triton/rotary.py to rotary.cpython-310.pyc\n",
            "byte-compiling build/bdist.linux-x86_64/egg/xformers/_flash_attn/utils/__init__.py to __init__.cpython-310.pyc\n",
            "byte-compiling build/bdist.linux-x86_64/egg/xformers/_flash_attn/utils/benchmark.py to benchmark.cpython-310.pyc\n",
            "byte-compiling build/bdist.linux-x86_64/egg/xformers/_flash_attn/utils/distributed.py to distributed.cpython-310.pyc\n",
            "byte-compiling build/bdist.linux-x86_64/egg/xformers/_flash_attn/utils/generation.py to generation.cpython-310.pyc\n",
            "byte-compiling build/bdist.linux-x86_64/egg/xformers/_flash_attn/utils/pretrained.py to pretrained.cpython-310.pyc\n",
            "creating stub loader for xformers/_C.so\n",
            "byte-compiling build/bdist.linux-x86_64/egg/xformers/_C.py to _C.cpython-310.pyc\n",
            "creating build/bdist.linux-x86_64/egg/EGG-INFO\n",
            "copying xformers.egg-info/PKG-INFO -> build/bdist.linux-x86_64/egg/EGG-INFO\n",
            "copying xformers.egg-info/SOURCES.txt -> build/bdist.linux-x86_64/egg/EGG-INFO\n",
            "copying xformers.egg-info/dependency_links.txt -> build/bdist.linux-x86_64/egg/EGG-INFO\n",
            "copying xformers.egg-info/not-zip-safe -> build/bdist.linux-x86_64/egg/EGG-INFO\n",
            "copying xformers.egg-info/requires.txt -> build/bdist.linux-x86_64/egg/EGG-INFO\n",
            "copying xformers.egg-info/top_level.txt -> build/bdist.linux-x86_64/egg/EGG-INFO\n",
            "writing build/bdist.linux-x86_64/egg/EGG-INFO/native_libs.txt\n",
            "creating 'dist/xformers-0.0.28+567cb66.d20240807-py3.10-linux-x86_64.egg' and adding 'build/bdist.linux-x86_64/egg' to it\n",
            "removing 'build/bdist.linux-x86_64/egg' (and everything under it)\n",
            "Processing xformers-0.0.28+567cb66.d20240807-py3.10-linux-x86_64.egg\n",
            "creating /usr/local/lib/python3.10/dist-packages/xformers-0.0.28+567cb66.d20240807-py3.10-linux-x86_64.egg\n",
            "Extracting xformers-0.0.28+567cb66.d20240807-py3.10-linux-x86_64.egg to /usr/local/lib/python3.10/dist-packages\n",
            "Adding xformers 0.0.28+567cb66.d20240807 to easy-install.pth file\n",
            "\n",
            "Installed /usr/local/lib/python3.10/dist-packages/xformers-0.0.28+567cb66.d20240807-py3.10-linux-x86_64.egg\n",
            "Processing dependencies for xformers==0.0.28+567cb66.d20240807\n",
            "Searching for numpy==1.26.4\n",
            "Best match: numpy 1.26.4\n",
            "Adding numpy 1.26.4 to easy-install.pth file\n",
            "detected new path './xformers-0.0.28+567cb66.d20240807-py3.10-linux-x86_64.egg'\n",
            "Installing f2py script to /usr/local/bin\n",
            "\n",
            "Using /usr/local/lib/python3.10/dist-packages\n",
            "Searching for torch==2.4.0\n",
            "Best match: torch 2.4.0\n",
            "Adding torch 2.4.0 to easy-install.pth file\n",
            "Installing convert-caffe2-to-onnx script to /usr/local/bin\n",
            "Installing convert-onnx-to-caffe2 script to /usr/local/bin\n",
            "Installing torchrun script to /usr/local/bin\n",
            "\n",
            "Using /usr/local/lib/python3.10/dist-packages\n",
            "Searching for triton==3.0.0\n",
            "Best match: triton 3.0.0\n",
            "Adding triton 3.0.0 to easy-install.pth file\n",
            "Installing proton script to /usr/local/bin\n",
            "Installing proton-viewer script to /usr/local/bin\n",
            "\n",
            "Using /usr/local/lib/python3.10/dist-packages\n",
            "Searching for nvidia-nvtx-cu12==12.1.105\n",
            "Best match: nvidia-nvtx-cu12 12.1.105\n",
            "Adding nvidia-nvtx-cu12 12.1.105 to easy-install.pth file\n",
            "\n",
            "Using /usr/local/lib/python3.10/dist-packages\n",
            "Searching for nvidia-nccl-cu12==2.20.5\n",
            "Best match: nvidia-nccl-cu12 2.20.5\n",
            "Adding nvidia-nccl-cu12 2.20.5 to easy-install.pth file\n",
            "\n",
            "Using /usr/local/lib/python3.10/dist-packages\n",
            "Searching for nvidia-cusparse-cu12==12.1.0.106\n",
            "Best match: nvidia-cusparse-cu12 12.1.0.106\n",
            "Adding nvidia-cusparse-cu12 12.1.0.106 to easy-install.pth file\n",
            "\n",
            "Using /usr/local/lib/python3.10/dist-packages\n",
            "Searching for nvidia-cusolver-cu12==11.4.5.107\n",
            "Best match: nvidia-cusolver-cu12 11.4.5.107\n",
            "Adding nvidia-cusolver-cu12 11.4.5.107 to easy-install.pth file\n",
            "\n",
            "Using /usr/local/lib/python3.10/dist-packages\n",
            "Searching for nvidia-curand-cu12==10.3.2.106\n",
            "Best match: nvidia-curand-cu12 10.3.2.106\n",
            "Adding nvidia-curand-cu12 10.3.2.106 to easy-install.pth file\n",
            "\n",
            "Using /usr/local/lib/python3.10/dist-packages\n",
            "Searching for nvidia-cufft-cu12==11.0.2.54\n",
            "Best match: nvidia-cufft-cu12 11.0.2.54\n",
            "Adding nvidia-cufft-cu12 11.0.2.54 to easy-install.pth file\n",
            "\n",
            "Using /usr/local/lib/python3.10/dist-packages\n",
            "Searching for nvidia-cublas-cu12==12.1.3.1\n",
            "Best match: nvidia-cublas-cu12 12.1.3.1\n",
            "Adding nvidia-cublas-cu12 12.1.3.1 to easy-install.pth file\n",
            "\n",
            "Using /usr/local/lib/python3.10/dist-packages\n",
            "Searching for nvidia-cudnn-cu12==9.1.0.70\n",
            "Best match: nvidia-cudnn-cu12 9.1.0.70\n",
            "Adding nvidia-cudnn-cu12 9.1.0.70 to easy-install.pth file\n",
            "\n",
            "Using /usr/local/lib/python3.10/dist-packages\n",
            "Searching for nvidia-cuda-cupti-cu12==12.1.105\n",
            "Best match: nvidia-cuda-cupti-cu12 12.1.105\n",
            "Adding nvidia-cuda-cupti-cu12 12.1.105 to easy-install.pth file\n",
            "\n",
            "Using /usr/local/lib/python3.10/dist-packages\n",
            "Searching for nvidia-cuda-runtime-cu12==12.1.105\n",
            "Best match: nvidia-cuda-runtime-cu12 12.1.105\n",
            "Adding nvidia-cuda-runtime-cu12 12.1.105 to easy-install.pth file\n",
            "\n",
            "Using /usr/local/lib/python3.10/dist-packages\n",
            "Searching for nvidia-cuda-nvrtc-cu12==12.1.105\n",
            "Best match: nvidia-cuda-nvrtc-cu12 12.1.105\n",
            "Adding nvidia-cuda-nvrtc-cu12 12.1.105 to easy-install.pth file\n",
            "\n",
            "Using /usr/local/lib/python3.10/dist-packages\n",
            "Searching for fsspec==2024.6.1\n",
            "Best match: fsspec 2024.6.1\n",
            "Adding fsspec 2024.6.1 to easy-install.pth file\n",
            "\n",
            "Using /usr/local/lib/python3.10/dist-packages\n",
            "Searching for jinja2==3.1.4\n",
            "Best match: jinja2 3.1.4\n",
            "Adding jinja2 3.1.4 to easy-install.pth file\n",
            "\n",
            "Using /usr/local/lib/python3.10/dist-packages\n",
            "Searching for networkx==3.3\n",
            "Best match: networkx 3.3\n",
            "Adding networkx 3.3 to easy-install.pth file\n",
            "\n",
            "Using /usr/local/lib/python3.10/dist-packages\n",
            "Searching for sympy==1.13.1\n",
            "Best match: sympy 1.13.1\n",
            "Adding sympy 1.13.1 to easy-install.pth file\n",
            "Installing isympy script to /usr/local/bin\n",
            "\n",
            "Using /usr/local/lib/python3.10/dist-packages\n",
            "Searching for typing-extensions==4.12.2\n",
            "Best match: typing-extensions 4.12.2\n",
            "Adding typing-extensions 4.12.2 to easy-install.pth file\n",
            "\n",
            "Using /usr/local/lib/python3.10/dist-packages/setuptools/_vendor\n",
            "Searching for filelock==3.15.4\n",
            "Best match: filelock 3.15.4\n",
            "Adding filelock 3.15.4 to easy-install.pth file\n",
            "detected new path './setuptools/_vendor'\n",
            "\n",
            "Using /usr/local/lib/python3.10/dist-packages\n",
            "Searching for nvidia-nvjitlink-cu12==12.6.20\n",
            "Best match: nvidia-nvjitlink-cu12 12.6.20\n",
            "Adding nvidia-nvjitlink-cu12 12.6.20 to easy-install.pth file\n",
            "\n",
            "Using /usr/local/lib/python3.10/dist-packages\n",
            "Searching for MarkupSafe==2.1.5\n",
            "Best match: MarkupSafe 2.1.5\n",
            "Adding MarkupSafe 2.1.5 to easy-install.pth file\n",
            "\n",
            "Using /usr/local/lib/python3.10/dist-packages\n",
            "Searching for mpmath==1.3.0\n",
            "Best match: mpmath 1.3.0\n",
            "Adding mpmath 1.3.0 to easy-install.pth file\n",
            "\n",
            "Using /usr/local/lib/python3.10/dist-packages\n",
            "Finished processing dependencies for xformers==0.0.28+567cb66.d20240807\n"
          ]
        }
      ],
      "source": [
        "!python setup.py install"
      ]
    },
    {
      "cell_type": "code",
      "execution_count": null,
      "metadata": {
        "id": "YACSIMDtdbLQ",
        "colab": {
          "base_uri": "https://localhost:8080/"
        },
        "outputId": "e6f033c1-7a52-4131-e418-9e9f3af793d9"
      },
      "outputs": [
        {
          "output_type": "stream",
          "name": "stdout",
          "text": [
            "/content/drive/.shortcut-targets-by-id/1iKYwig0Wy6ShYPYN1JdvZhphpFEtCGum/diffusion-classifier-master\n",
            "/usr/local/lib/python3.10/dist-packages/torchvision/io/image.py:13: UserWarning: Failed to load image Python extension: /usr/local/lib/python3.10/dist-packages/torchvision/image.so: undefined symbol: _ZN3c1017RegisterOperatorsD1Ev\n",
            "  warn(f\"Failed to load image Python extension: {e}\")\n",
            "/usr/local/lib/python3.10/dist-packages/xformers-0.0.28+567cb66.d20240807-py3.10-linux-x86_64.egg/xformers/ops/fmha/flash.py:211: FutureWarning: `torch.library.impl_abstract` was renamed to `torch.library.register_fake`. Please use that instead; we will remove `torch.library.impl_abstract` in a future version of PyTorch.\n",
            "  @torch.library.impl_abstract(\"xformers_flash::flash_fwd\")\n",
            "/usr/local/lib/python3.10/dist-packages/xformers-0.0.28+567cb66.d20240807-py3.10-linux-x86_64.egg/xformers/ops/fmha/flash.py:344: FutureWarning: `torch.library.impl_abstract` was renamed to `torch.library.register_fake`. Please use that instead; we will remove `torch.library.impl_abstract` in a future version of PyTorch.\n",
            "  @torch.library.impl_abstract(\"xformers_flash::flash_bwd\")\n",
            "2024-08-07 10:21:15.256108: E external/local_xla/xla/stream_executor/cuda/cuda_fft.cc:485] Unable to register cuFFT factory: Attempting to register factory for plugin cuFFT when one has already been registered\n",
            "2024-08-07 10:21:15.284633: E external/local_xla/xla/stream_executor/cuda/cuda_dnn.cc:8454] Unable to register cuDNN factory: Attempting to register factory for plugin cuDNN when one has already been registered\n",
            "2024-08-07 10:21:15.292987: E external/local_xla/xla/stream_executor/cuda/cuda_blas.cc:1452] Unable to register cuBLAS factory: Attempting to register factory for plugin cuBLAS when one has already been registered\n",
            "2024-08-07 10:21:15.321369: I tensorflow/core/platform/cpu_feature_guard.cc:210] This TensorFlow binary is optimized to use available CPU instructions in performance-critical operations.\n",
            "To enable the following instructions: AVX2 FMA, in other operations, rebuild TensorFlow with the appropriate compiler flags.\n",
            "2024-08-07 10:21:17.345706: W tensorflow/compiler/tf2tensorrt/utils/py_utils.cc:38] TF-TRT Warning: Could not find TensorRT\n",
            "Run folder: data/shapenet/v2-0_1trials_3_1keep_100_500samples_l1\n",
            "100% 30/30 [00:00<00:00, 89.34it/s]\n",
            "Loading pipeline components...: 100% 6/6 [00:13<00:00,  2.23s/it]\n",
            "  0% 0/30 [00:00<?, ?it/s]Skipping 0\n",
            "Skipping 1\n",
            "Skipping 2\n",
            "Skipping 3\n",
            "Skipping 4\n",
            "Skipping 5\n",
            "Skipping 6\n",
            "Skipping 7\n",
            "Skipping 8\n",
            "Skipping 9\n",
            "Skipping 10\n",
            "Skipping 11\n",
            "Skipping 12\n",
            "Skipping 13\n",
            "Skipping 14\n",
            "Skipping 15\n",
            "Skipping 16\n",
            "Skipping 17\n",
            "Skipping 18\n",
            "Skipping 19\n",
            "Skipping 20\n",
            "Skipping 21\n",
            "Skipping 22\n",
            "Skipping 23\n",
            "Skipping 24\n",
            "Skipping 25\n",
            "Skipping 26\n",
            "Skipping 27\n",
            "Skipping 28\n",
            "Skipping 29\n",
            "100% 30/30 [00:00<00:00, 2125.20it/s]\n"
          ]
        }
      ],
      "source": [
        "!python eval_prob_adaptive.py --dataset shapenet --split test --n_trials 1 \\\n",
        "  --to_keep 3 1 --n_samples 100 500 --loss l1 \\\n",
        "  --prompt_path prompts/shapenet_prompts_meher.csv"
      ]
    },
    {
      "cell_type": "code",
      "execution_count": null,
      "metadata": {
        "id": "Gwe6gMNzz4jA",
        "colab": {
          "base_uri": "https://localhost:8080/"
        },
        "outputId": "6253a014-564d-4532-eafc-956a5ba316cc"
      },
      "outputs": [
        {
          "output_type": "stream",
          "name": "stdout",
          "text": [
            "/content/drive/.shortcut-targets-by-id/1iKYwig0Wy6ShYPYN1JdvZhphpFEtCGum/diffusion-classifier-master/scripts/print_acc.py:51: FutureWarning: You are using `torch.load` with `weights_only=False` (the current default value), which uses the default pickle module implicitly. It is possible to construct malicious pickle data which will execute arbitrary code during unpickling (See https://github.com/pytorch/pytorch/blob/main/SECURITY.md#untrusted-models for more details). In a future release, the default value for `weights_only` will be flipped to `True`. This limits the functions that could be executed during unpickling. Arbitrary objects will no longer be allowed to be loaded via this mode unless they are explicitly allowlisted by the user via `torch.serialization.add_safe_globals`. We recommend you start setting `weights_only=True` for any use case where you don't have full control of the loaded file. Please open an issue on GitHub for any issues related to this experimental feature.\n",
            "  sample_data = torch.load(sample_file_path)\n",
            "dict_keys(['errors', 'pred', 'label', 'unique_id'])\n",
            "  0% 0/30 [00:00<?, ?it/s]/content/drive/.shortcut-targets-by-id/1iKYwig0Wy6ShYPYN1JdvZhphpFEtCGum/diffusion-classifier-master/scripts/print_acc.py:66: FutureWarning: You are using `torch.load` with `weights_only=False` (the current default value), which uses the default pickle module implicitly. It is possible to construct malicious pickle data which will execute arbitrary code during unpickling (See https://github.com/pytorch/pytorch/blob/main/SECURITY.md#untrusted-models for more details). In a future release, the default value for `weights_only` will be flipped to `True`. This limits the functions that could be executed during unpickling. Arbitrary objects will no longer be allowed to be loaded via this mode unless they are explicitly allowlisted by the user via `torch.serialization.add_safe_globals`. We recommend you start setting `weights_only=True` for any use case where you don't have full control of the loaded file. Please open an issue on GitHub for any issues related to this experimental feature.\n",
            "  data = torch.load(osp.join(args.folder, f))\n",
            "chair_1b7ba5484399d36bc5e50b867ca2d0b9_hard\n",
            "chair_1b7ba5484399d36bc5e50b867ca2d0b9_hard\n",
            "  7% 2/30 [00:00<00:03,  8.06it/s]chair_1b7ba5484399d36bc5e50b867ca2d0b9_easy\n",
            " 10% 3/30 [00:00<00:05,  4.58it/s]chair_1b7ba5484399d36bc5e50b867ca2d0b9_easy\n",
            " 13% 4/30 [00:00<00:06,  4.29it/s]chair_1b7ba5484399d36bc5e50b867ca2d0b9_easy\n",
            " 17% 5/30 [00:01<00:05,  4.43it/s]chair_1a6f615e8b1b5ae4dbbc9440457e303e_easy\n",
            " 20% 6/30 [00:01<00:05,  4.18it/s]chair_1a6f615e8b1b5ae4dbbc9440457e303e_easy\n",
            " 23% 7/30 [00:01<00:05,  4.20it/s]chair_1a6f615e8b1b5ae4dbbc9440457e303e_hard\n",
            " 27% 8/30 [00:01<00:05,  3.94it/s]chair_1a6f615e8b1b5ae4dbbc9440457e303e_hard\n",
            " 30% 9/30 [00:02<00:05,  3.95it/s]chair_1a6f615e8b1b5ae4dbbc9440457e303e_hard\n",
            " 33% 10/30 [00:02<00:05,  3.87it/s]airplane_1a6ad7a24bb89733f412783097373bdc_hard\n",
            " 37% 11/30 [00:02<00:04,  3.89it/s]airplane_1a6ad7a24bb89733f412783097373bdc_hard\n",
            " 40% 12/30 [00:02<00:04,  4.00it/s]airplane_1a6ad7a24bb89733f412783097373bdc_easy\n",
            " 43% 13/30 [00:03<00:04,  4.07it/s]airplane_1a6ad7a24bb89733f412783097373bdc_easy\n",
            " 47% 14/30 [00:03<00:03,  4.10it/s]airplane_1a6ad7a24bb89733f412783097373bdc_easy\n",
            " 50% 15/30 [00:03<00:04,  3.67it/s]airplane_1a04e3eab45ca15dd86060f189eb133_hard\n",
            " 53% 16/30 [00:03<00:03,  3.91it/s]airplane_1a04e3eab45ca15dd86060f189eb133_hard\n",
            " 57% 17/30 [00:04<00:03,  4.14it/s]airplane_1a04e3eab45ca15dd86060f189eb133_hard\n",
            " 60% 18/30 [00:04<00:03,  3.89it/s]airplane_1a04e3eab45ca15dd86060f189eb133_easy\n",
            " 63% 19/30 [00:04<00:02,  3.83it/s]airplane_1a04e3eab45ca15dd86060f189eb133_easy\n",
            " 67% 20/30 [00:04<00:02,  4.00it/s]car_1a0bc9ab92c915167ae33d942430658c_hard\n",
            " 70% 21/30 [00:05<00:02,  4.02it/s]car_1a0bc9ab92c915167ae33d942430658c_hard\n",
            " 73% 22/30 [00:05<00:01,  4.27it/s]car_1a0bc9ab92c915167ae33d942430658c_hard\n",
            " 77% 23/30 [00:05<00:01,  4.20it/s]car_1a0bc9ab92c915167ae33d942430658c_easy\n",
            " 80% 24/30 [00:05<00:01,  4.28it/s]car_1a0bc9ab92c915167ae33d942430658c_easy\n",
            " 83% 25/30 [00:06<00:01,  4.01it/s]car_1a1dcd236a1e6133860800e6696b8284_easy\n",
            " 87% 26/30 [00:06<00:00,  4.06it/s]car_1a1dcd236a1e6133860800e6696b8284_easy\n",
            " 90% 27/30 [00:06<00:00,  3.86it/s]car_1a1dcd236a1e6133860800e6696b8284_easy\n",
            " 93% 28/30 [00:06<00:00,  3.75it/s]car_1a1dcd236a1e6133860800e6696b8284_hard\n",
            " 97% 29/30 [00:07<00:00,  3.94it/s]car_1a1dcd236a1e6133860800e6696b8284_hard\n",
            "100% 30/30 [00:07<00:00,  4.08it/s]\n",
            "=============================================================\n",
            "All unique IDs:\n",
            "chair_1b7ba5484399d36bc5e50b867ca2d0b9_hard\n",
            "chair_1b7ba5484399d36bc5e50b867ca2d0b9_easy\n",
            "chair_1a6f615e8b1b5ae4dbbc9440457e303e_easy\n",
            "chair_1a6f615e8b1b5ae4dbbc9440457e303e_hard\n",
            "airplane_1a6ad7a24bb89733f412783097373bdc_hard\n",
            "airplane_1a6ad7a24bb89733f412783097373bdc_easy\n",
            "airplane_1a04e3eab45ca15dd86060f189eb133_hard\n",
            "airplane_1a04e3eab45ca15dd86060f189eb133_easy\n",
            "car_1a0bc9ab92c915167ae33d942430658c_hard\n",
            "car_1a0bc9ab92c915167ae33d942430658c_easy\n",
            "car_1a1dcd236a1e6133860800e6696b8284_easy\n",
            "car_1a1dcd236a1e6133860800e6696b8284_hard\n",
            "Total number of unique IDs: 12\n",
            "==============================================================\n",
            "chair_1b7ba5484399d36bc5e50b867ca2d0b9_hard: [2, 2]\n",
            "chair_1b7ba5484399d36bc5e50b867ca2d0b9_easy: [2, 2, 2]\n",
            "chair_1a6f615e8b1b5ae4dbbc9440457e303e_easy: [2, 2]\n",
            "chair_1a6f615e8b1b5ae4dbbc9440457e303e_hard: [2, 2, 2]\n",
            "airplane_1a6ad7a24bb89733f412783097373bdc_hard: [0, 0]\n",
            "airplane_1a6ad7a24bb89733f412783097373bdc_easy: [0, 0, 0]\n",
            "airplane_1a04e3eab45ca15dd86060f189eb133_hard: [1, 1, 1]\n",
            "airplane_1a04e3eab45ca15dd86060f189eb133_easy: [1, 1]\n",
            "car_1a0bc9ab92c915167ae33d942430658c_hard: [1, 1, 1]\n",
            "car_1a0bc9ab92c915167ae33d942430658c_easy: [1, 1]\n",
            "car_1a1dcd236a1e6133860800e6696b8284_easy: [1, 1, 1]\n",
            "car_1a1dcd236a1e6133860800e6696b8284_hard: [1, 1]\n",
            "================================================================\n",
            "Model airplane_1a04e3eab45ca15dd86060f189eb133_easy - Accuracy: 0%\n",
            "Model airplane_1a04e3eab45ca15dd86060f189eb133_hard - Accuracy: 0%\n",
            "Model airplane_1a6ad7a24bb89733f412783097373bdc_easy - Accuracy: 100%\n",
            "Model airplane_1a6ad7a24bb89733f412783097373bdc_hard - Accuracy: 100%\n",
            "Model car_1a0bc9ab92c915167ae33d942430658c_easy - Accuracy: 100%\n",
            "Model car_1a0bc9ab92c915167ae33d942430658c_hard - Accuracy: 100%\n",
            "Model car_1a1dcd236a1e6133860800e6696b8284_easy - Accuracy: 100%\n",
            "Model car_1a1dcd236a1e6133860800e6696b8284_hard - Accuracy: 100%\n",
            "Model chair_1a6f615e8b1b5ae4dbbc9440457e303e_easy - Accuracy: 100%\n",
            "Model chair_1a6f615e8b1b5ae4dbbc9440457e303e_hard - Accuracy: 100%\n",
            "Model chair_1b7ba5484399d36bc5e50b867ca2d0b9_easy - Accuracy: 100%\n",
            "Model chair_1b7ba5484399d36bc5e50b867ca2d0b9_hard - Accuracy: 100%\n",
            "\n",
            "Overall Accuracy: 83.33%\n",
            "Precision: 88.89%\n",
            "Recall: 83.33%\n",
            "F1 Score: 82.22%\n",
            "confusion matrix\n",
            "[[2 2 0]\n",
            " [0 4 0]\n",
            " [0 0 4]]\n"
          ]
        }
      ],
      "source": [
        "!python scripts/print_acc.py data/shapenet/v2-0_1trials_3_1keep_100_500samples_l1"
      ]
    },
    {
      "cell_type": "code",
      "execution_count": null,
      "metadata": {
        "id": "BMXEUZooc-AH",
        "colab": {
          "base_uri": "https://localhost:8080/"
        },
        "outputId": "5d69e45a-cfd8-4526-d21f-30634fa929ce"
      },
      "outputs": [
        {
          "output_type": "stream",
          "name": "stdout",
          "text": [
            "/content/drive/.shortcut-targets-by-id/1iKYwig0Wy6ShYPYN1JdvZhphpFEtCGum/diffusion-classifier-master\n"
          ]
        }
      ],
      "source": [
        "%cd .."
      ]
    },
    {
      "cell_type": "code",
      "execution_count": null,
      "metadata": {
        "id": "p6RWTnhmQv4g",
        "colab": {
          "base_uri": "https://localhost:8080/"
        },
        "outputId": "40176c00-805d-42d6-cfb3-98f47cb2563d"
      },
      "outputs": [
        {
          "output_type": "stream",
          "name": "stdout",
          "text": [
            "/content/drive/.shortcut-targets-by-id/1iKYwig0Wy6ShYPYN1JdvZhphpFEtCGum/diffusion-classifier-master/diffusion\n"
          ]
        }
      ],
      "source": [
        "%cd /content/drive/MyDrive/diffusion-classifier-master/diffusion"
      ]
    },
    {
      "cell_type": "code",
      "execution_count": null,
      "metadata": {
        "id": "0YJL-gmR7vKy",
        "colab": {
          "base_uri": "https://localhost:8080/"
        },
        "outputId": "323d7342-840f-46e4-db1b-162970608a8f"
      },
      "outputs": [
        {
          "output_type": "stream",
          "name": "stdout",
          "text": [
            "/content/drive/.shortcut-targets-by-id/1iKYwig0Wy6ShYPYN1JdvZhphpFEtCGum/diffusion-classifier-master/diffusion\n"
          ]
        }
      ],
      "source": [
        "from datasets import get_target_dataset\n",
        "from utils import *"
      ]
    },
    {
      "cell_type": "code",
      "execution_count": null,
      "metadata": {
        "id": "z9PbuBtP7x1m",
        "colab": {
          "base_uri": "https://localhost:8080/"
        },
        "outputId": "e00040d9-0a89-42a5-b6bf-2485ab9ca1bd"
      },
      "outputs": [
        {
          "output_type": "stream",
          "name": "stderr",
          "text": [
            "100%|██████████| 30/30 [00:00<00:00, 134.25it/s]\n"
          ]
        }
      ],
      "source": [
        "data = get_target_dataset('shapenet')"
      ]
    },
    {
      "cell_type": "code",
      "execution_count": null,
      "metadata": {
        "id": "WWoSnsSt70y0",
        "colab": {
          "base_uri": "https://localhost:8080/"
        },
        "outputId": "85afe851-e6a8-4de7-df58-0cc92776638d"
      },
      "outputs": [
        {
          "output_type": "execute_result",
          "data": {
            "text/plain": [
              "<datasets.ShapeNetDataset at 0x7de22e376aa0>"
            ]
          },
          "metadata": {},
          "execution_count": 23
        }
      ],
      "source": [
        "data"
      ]
    },
    {
      "cell_type": "code",
      "execution_count": null,
      "metadata": {
        "id": "4g6ibuvW72mK"
      },
      "outputs": [],
      "source": [
        "formatstr = get_formatstr(len(data) - 1)"
      ]
    },
    {
      "cell_type": "code",
      "execution_count": null,
      "metadata": {
        "id": "M7CLoSBi8LKl"
      },
      "outputs": [],
      "source": [
        "import torch\n",
        "from torchvision import datasets, transforms"
      ]
    },
    {
      "cell_type": "code",
      "execution_count": null,
      "metadata": {
        "id": "d3il-VKS8M-r"
      },
      "outputs": [],
      "source": [
        "data = datasets.ImageFolder(root= \"/content/drive/MyDrive/shapenet_dataset\")"
      ]
    },
    {
      "cell_type": "code",
      "execution_count": null,
      "metadata": {
        "id": "uKGOAKt68UDD",
        "colab": {
          "base_uri": "https://localhost:8080/"
        },
        "outputId": "d648937f-9325-44a1-8e61-003660f0865b"
      },
      "outputs": [
        {
          "output_type": "stream",
          "name": "stdout",
          "text": [
            "Number of classes: 3\n"
          ]
        }
      ],
      "source": [
        "num_classes = len(data.class_to_idx)\n",
        "print('Number of classes:', num_classes)"
      ]
    },
    {
      "cell_type": "code",
      "execution_count": null,
      "metadata": {
        "id": "jCbTPOL38V0x",
        "colab": {
          "base_uri": "https://localhost:8080/"
        },
        "outputId": "c7c66c49-9bd8-4738-c96b-e6e6693002e4"
      },
      "outputs": [
        {
          "output_type": "execute_result",
          "data": {
            "text/plain": [
              "{'airplane': 0, 'car': 1, 'chair': 2}"
            ]
          },
          "metadata": {},
          "execution_count": 28
        }
      ],
      "source": [
        "data.class_to_idx"
      ]
    },
    {
      "cell_type": "markdown",
      "metadata": {
        "id": "e_8gCqTiAYSs"
      },
      "source": []
    }
  ],
  "metadata": {
    "accelerator": "GPU",
    "colab": {
      "gpuType": "T4",
      "provenance": []
    },
    "kernelspec": {
      "display_name": "Python 3",
      "name": "python3"
    },
    "language_info": {
      "name": "python"
    }
  },
  "nbformat": 4,
  "nbformat_minor": 0
}